{
 "cells": [
  {
   "cell_type": "markdown",
   "metadata": {},
   "source": [
    "# 기사 제목 스크래핑 기초"
   ]
  },
  {
   "cell_type": "markdown",
   "metadata": {},
   "source": [
    "BeautifilSoup검색 시 (단일/다중 element 검색)\n",
    "\n",
    "soup.find(id=’id명’)\\\n",
    "soup.find(class=’class명’)\\\n",
    "soup.find(‘태그 이름’, class_=’class명’)\\\n",
    "soup.find_all(‘태그 이름’)"
   ]
  },
  {
   "cell_type": "markdown",
   "metadata": {},
   "source": [
    "Selenium검색 시\n",
    "\n",
    "find_element_by_id(‘id명’)\\\n",
    "find_element_by_class_name(‘class명’)\\\n",
    "find_element_by_xpath(‘xpath’)\\\n",
    "find_element_by_tag_name(‘tag명’)"
   ]
  },
  {
   "cell_type": "markdown",
   "metadata": {},
   "source": [
    "import requests\n",
    "from bs4 import BeautifulSoup as bs"
   ]
  },
  {
   "cell_type": "markdown",
   "metadata": {},
   "source": [
    "url = \"https://search.naver.com/search.naver?&where=news&query=유태오\""
   ]
  },
  {
   "cell_type": "markdown",
   "metadata": {},
   "source": [
    "r = requests.get(url)\n",
    "soup = BeautifulSoup(r.text,\"html.parser\")\n",
    "news_titles = soup.select('ul.type01 > li')"
   ]
  },
  {
   "cell_type": "markdown",
   "metadata": {},
   "source": [
    "for news in news_titles:\n",
    "    title = news.select_one(\"a._sp_each_title\").text\n",
    "    date = news.select_one(\"dd.txt_inline\").text\n",
    "    \n",
    "    print(title, date)"
   ]
  },
  {
   "cell_type": "markdown",
   "metadata": {},
   "source": [
    "# 여러 페이지 가져오기"
   ]
  },
  {
   "cell_type": "markdown",
   "metadata": {},
   "source": [
    "import urllib.request\n",
    "from urllib.parse import quote\n",
    "from bs4 import BeautifulSoup\n",
    "import pandas as pd"
   ]
  },
  {
   "cell_type": "markdown",
   "metadata": {},
   "source": [
    "plusUrl = urllib.parse.quote_plus(input('검색어를 입력하세요:'))"
   ]
  },
  {
   "cell_type": "markdown",
   "metadata": {},
   "source": [
    "pageNum = 1\n",
    "count = 1\n",
    "\n",
    "i = input('몇 페이지까지 크롤링 원해? :')\n",
    "\n",
    "lastPage = int(i) * 10 - 9\n",
    "while pageNum < lastPage + 1:\n",
    "    url = f\"https://search.naver.com/search.naver?&where=news&query={plusUrl}&sm=tab_pge&sort=0&photo=0&field=0&reporter_article=&pd=0&ds=&de=&docid=&nso=so:r,p:all,a:all&mynews=0&cluster_rank=34&start=11&refresh_start={pageNum}\"\n",
    "    \n",
    "    html = urllib.request.urlopen(url).read()\n",
    "    soup = BeautifulSoup(html, 'html.parser')\n",
    "    \n",
    "    title = soup.find_all(class_='_sp_each_title')\n",
    "    \n",
    "    print(f'------{count}페이지 결과입니다.-----')\n",
    "    \n",
    "    for i in title:\n",
    "        print(i.attrs['title'])\n",
    "        print(i.attrs['href'])\n",
    "        print()\n",
    "    \n",
    "    pageNum += 10\n",
    "    count += 1    "
   ]
  },
  {
   "cell_type": "markdown",
   "metadata": {},
   "source": [
    "def get_news(query):\n",
    "    \n",
    "    url_query = quote(query)\n",
    "    url = \"https://search.naver.com/search.naver?&where=news&query={}&sm=tab_pge&sort=0&photo=0&field=0&reporter_article=&pd=0&ds=&de=&docid=&nso=so:r,p:all,a:all&mynews=0&cluster_rank=34&start=11&refresh_start={}\".format('plusurl','pageNum') + url_query\n",
    "    \n",
    "    search_url = urllib.request.urlopen(url).read()\n",
    "    soup = BeautifulSoup(Search_url, 'html.parser')\n",
    "    links = soup.find_all('dd', {'class':'txt_inline'})\n",
    "    \n",
    "    for link in links:\n",
    "        news_date = link.find('span',{'class':'bar'}).get_text()\n",
    "        news_title = link.find('a').get('class')"
   ]
  },
  {
   "cell_type": "markdown",
   "metadata": {},
   "source": [
    "# -------지금부터 시작합니다 -----"
   ]
  },
  {
   "cell_type": "markdown",
   "metadata": {},
   "source": [
    "## 연예기사는 무조건 selenium 사용해야 하ㅏㅏ... "
   ]
  },
  {
   "cell_type": "code",
   "execution_count": 1,
   "metadata": {},
   "outputs": [],
   "source": [
    "import requests\n",
    "from bs4 import BeautifulSoup as bs"
   ]
  },
  {
   "cell_type": "code",
   "execution_count": 2,
   "metadata": {},
   "outputs": [],
   "source": [
    "from selenium import webdriver"
   ]
  },
  {
   "cell_type": "code",
   "execution_count": 3,
   "metadata": {},
   "outputs": [],
   "source": [
    "d = webdriver.Chrome(\"c:/Chrome/chromedriver.exe\")"
   ]
  },
  {
   "cell_type": "code",
   "execution_count": 4,
   "metadata": {},
   "outputs": [],
   "source": [
    "d.get(\"https://www.naver.com\") # 네이버 입장"
   ]
  },
  {
   "cell_type": "code",
   "execution_count": 5,
   "metadata": {},
   "outputs": [],
   "source": [
    "elem = d.find_element_by_id(\"query\") # 검색어를 어디에서 입력하지"
   ]
  },
  {
   "cell_type": "code",
   "execution_count": 6,
   "metadata": {},
   "outputs": [],
   "source": [
    "elem.send_keys(\"유태오\") # 검색어를 입력한다 꺄앙\n",
    "elem = d.find_element_by_id(\"search_btn\")\n",
    "elem.click() # 검색어 클릭"
   ]
  },
  {
   "cell_type": "code",
   "execution_count": 7,
   "metadata": {},
   "outputs": [],
   "source": [
    "d.find_element_by_css_selector(\"#lnb > div > div.lnb_menu > ul > li.lnb4\").click() #뉴스 클릭!"
   ]
  },
  {
   "cell_type": "code",
   "execution_count": 8,
   "metadata": {},
   "outputs": [],
   "source": [
    "d.find_element_by_css_selector('#_search_option_btn').click() # 검색옵션 "
   ]
  },
  {
   "cell_type": "code",
   "execution_count": 9,
   "metadata": {},
   "outputs": [],
   "source": [
    "d.find_element_by_css_selector('#snb > div > ul > li:nth-child(4) > a').click() # 기간클릭"
   ]
  },
  {
   "cell_type": "code",
   "execution_count": 10,
   "metadata": {},
   "outputs": [],
   "source": [
    "d.find_element_by_css_selector('#_nx_option_date > div.group_choice > ul:nth-child(1) > li:nth-child(4) > a').click() # 1개월!!"
   ]
  },
  {
   "cell_type": "code",
   "execution_count": 11,
   "metadata": {},
   "outputs": [],
   "source": [
    "# 신문사와 날짜 추출\n",
    "\n",
    "html = d.page_source\n",
    "bs_naver = bs(html, 'html.parser')\n",
    "news_titles = bs_naver.select('ul.type01 > li')\n",
    "    \n",
    "import pandas as pd\n",
    "total = pd.DataFrame()\n",
    "    \n",
    "for news in news_titles:\n",
    "    title = news.select_one(\"a._sp_each_title\").text\n",
    "    date = news.select_one(\"dd.txt_inline\").text\n",
    "    hhh = (title +'  '+ date).split('  ')[:3]\n",
    "\n",
    "    total = total.append(pd.DataFrame({ \"제목\":[hhh[0]] , \"신문사\":[hhh[1]] ,\"발행일\" : [hhh[2]] }))\n",
    "total\n",
    "\n",
    "Nextpage = d.find_element_by_css_selector(\"#main_pack > div > div.paging > a:nth-child(2)\").click()\n",
    "\n",
    "for page in range(1,11):\n",
    "    try:\n",
    "        html = d.page_source\n",
    "        bs_naver = bs(html, 'html.parser')\n",
    "        news_titles = bs_naver.select('ul.type01 > li')\n",
    "\n",
    "\n",
    "        for news in news_titles:\n",
    "            title = news.select_one(\"a._sp_each_title\").text\n",
    "            date = news.select_one(\"dd.txt_inline\").text\n",
    "            hhh = (title +'  '+ date).split('  ')[:3]\n",
    "\n",
    "            total = total.append(pd.DataFrame({ \"제목\":[hhh[0]] , \"신문사\":[hhh[1]] ,\"발행일\" : [hhh[2]] }))\n",
    "\n",
    "        # 페이지 이동하기\n",
    "        d.find_element_by_xpath('//*[@id=\"main_pack\"]/div/div[2]/a[%s]' %page).click()\n",
    "        \n",
    "    except:\n",
    "        break"
   ]
  },
  {
   "cell_type": "code",
   "execution_count": 13,
   "metadata": {
    "collapsed": true
   },
   "outputs": [
    {
     "data": {
      "text/html": [
       "<div>\n",
       "<style scoped>\n",
       "    .dataframe tbody tr th:only-of-type {\n",
       "        vertical-align: middle;\n",
       "    }\n",
       "\n",
       "    .dataframe tbody tr th {\n",
       "        vertical-align: top;\n",
       "    }\n",
       "\n",
       "    .dataframe thead th {\n",
       "        text-align: right;\n",
       "    }\n",
       "</style>\n",
       "<table border=\"1\" class=\"dataframe\">\n",
       "  <thead>\n",
       "    <tr style=\"text-align: right;\">\n",
       "      <th></th>\n",
       "      <th>제목</th>\n",
       "      <th>신문사</th>\n",
       "      <th>발행일</th>\n",
       "    </tr>\n",
       "  </thead>\n",
       "  <tbody>\n",
       "    <tr>\n",
       "      <th>0</th>\n",
       "      <td>유태오, 넷플릭스 '보건교사 안은영' 영어교사 역 발탁</td>\n",
       "      <td>뉴시스</td>\n",
       "      <td>2020.08.20.</td>\n",
       "    </tr>\n",
       "    <tr>\n",
       "      <th>1</th>\n",
       "      <td>부산구치소 복지시설 위문품</td>\n",
       "      <td>부산일보</td>\n",
       "      <td>14시간 전</td>\n",
       "    </tr>\n",
       "    <tr>\n",
       "      <th>2</th>\n",
       "      <td>부산구치소장에 우희경 교정본부 교정기획과장</td>\n",
       "      <td>로이슈</td>\n",
       "      <td>20시간 전</td>\n",
       "    </tr>\n",
       "    <tr>\n",
       "      <th>3</th>\n",
       "      <td>부산구치소, 직원성금으로 추석맞이 사회복지시설 4곳 위문</td>\n",
       "      <td>로이슈</td>\n",
       "      <td>1일 전</td>\n",
       "    </tr>\n",
       "    <tr>\n",
       "      <th>4</th>\n",
       "      <td>부산제일라이온스클럽, 코로나19 예방 면마스크 2300장 부산구치소에 기증</td>\n",
       "      <td>로이슈</td>\n",
       "      <td>2일 전</td>\n",
       "    </tr>\n",
       "    <tr>\n",
       "      <th>5</th>\n",
       "      <td>부산구치소, 엄궁중·동주중에 교정장학금 전달</td>\n",
       "      <td>파이낸셜뉴스</td>\n",
       "      <td>2020.09.08.</td>\n",
       "    </tr>\n",
       "    <tr>\n",
       "      <th>6</th>\n",
       "      <td>권영찬, 생애 첫 오디션으로 넷플릭스 ‘보건교사 안은영’으로 주조연 데뷔!</td>\n",
       "      <td>MBC연예</td>\n",
       "      <td>3일 전</td>\n",
       "    </tr>\n",
       "    <tr>\n",
       "      <th>7</th>\n",
       "      <td>권영찬, 넷플릭스 '보건교사 안은영' 캐스팅</td>\n",
       "      <td>톱데일리</td>\n",
       "      <td>3일 전</td>\n",
       "    </tr>\n",
       "    <tr>\n",
       "      <th>8</th>\n",
       "      <td>[포토] 부산구치소 직원들, 사상구 관내 중학생에게 장학금 전달</td>\n",
       "      <td>시장경제신문</td>\n",
       "      <td>2020.09.09.</td>\n",
       "    </tr>\n",
       "    <tr>\n",
       "      <th>9</th>\n",
       "      <td>\"아, XX\"··· '보건교사 안은영' 예고편에 욕설 그대로 노출</td>\n",
       "      <td>서울경제</td>\n",
       "      <td>2020.08.25.</td>\n",
       "    </tr>\n",
       "    <tr>\n",
       "      <th>10</th>\n",
       "      <td>\"아, XX\"··· '보건교사 안은영' 예고편에 욕설 그대로 노출</td>\n",
       "      <td>서울경제</td>\n",
       "      <td>2020.08.25.</td>\n",
       "    </tr>\n",
       "    <tr>\n",
       "      <th>11</th>\n",
       "      <td>부산구치소, 청렴 실천 결의대회 ‘비대면’으로 실시</td>\n",
       "      <td>파이낸셜뉴스언론사 선정</td>\n",
       "      <td>2020.08.21.</td>\n",
       "    </tr>\n",
       "    <tr>\n",
       "      <th>12</th>\n",
       "      <td>박준희 부산구치소 교정위원, 늦더위 극복 얼음생수 기증</td>\n",
       "      <td>한국경제</td>\n",
       "      <td>2020.08.30.</td>\n",
       "    </tr>\n",
       "    <tr>\n",
       "      <th>13</th>\n",
       "      <td>박준희 교정협 위원, 부산구치소에 얼음생수 기증</td>\n",
       "      <td>파이낸셜뉴스</td>\n",
       "      <td>2020.08.25.</td>\n",
       "    </tr>\n",
       "    <tr>\n",
       "      <th>14</th>\n",
       "      <td>부산구치소, 비대면 청렴 실천 결의대회</td>\n",
       "      <td>한국경제</td>\n",
       "      <td>2020.08.22.</td>\n",
       "    </tr>\n",
       "    <tr>\n",
       "      <th>15</th>\n",
       "      <td>부산구치소 청렴 실천 결의대회</td>\n",
       "      <td>부산일보</td>\n",
       "      <td>2020.08.23.</td>\n",
       "    </tr>\n",
       "    <tr>\n",
       "      <th>16</th>\n",
       "      <td>왓챠 신작 소개! &lt;돈 워리&gt;, &lt;상견니&gt;, &lt;퍼펙트맨&gt; 등</td>\n",
       "      <td>무비스트</td>\n",
       "      <td>2020.09.04.</td>\n",
       "    </tr>\n",
       "    <tr>\n",
       "      <th>17</th>\n",
       "      <td>[포토뉴스] 부산구치소 수용자 생수 기증</td>\n",
       "      <td>부산일보</td>\n",
       "      <td>2020.08.25.</td>\n",
       "    </tr>\n",
       "    <tr>\n",
       "      <th>18</th>\n",
       "      <td>'보건교사 안은영' 정유미-남주혁, 넷플릭스 예고편에 기대감 상승…\"충전부터...</td>\n",
       "      <td>톱스타뉴스</td>\n",
       "      <td>2020.08.25.</td>\n",
       "    </tr>\n",
       "    <tr>\n",
       "      <th>19</th>\n",
       "      <td>유태오, 넷플릭스 '보건교사 안은영' 영어선생님役 출연 [공식]</td>\n",
       "      <td>더셀럽</td>\n",
       "      <td>2020.08.20.</td>\n",
       "    </tr>\n",
       "    <tr>\n",
       "      <th>20</th>\n",
       "      <td>유태오, 넷플릭스 '보건교사 안은영' 출연…영어 교사 메켄지 역</td>\n",
       "      <td>뉴스1</td>\n",
       "      <td>2020.08.20.</td>\n",
       "    </tr>\n",
       "    <tr>\n",
       "      <th>21</th>\n",
       "      <td>유태오, 넷플릭스 '보건교사 안은영' 영어교사 역 발탁</td>\n",
       "      <td>뉴시스</td>\n",
       "      <td>2020.08.20.</td>\n",
       "    </tr>\n",
       "    <tr>\n",
       "      <th>22</th>\n",
       "      <td>부산구치소 복지시설 위문품</td>\n",
       "      <td>부산일보</td>\n",
       "      <td>14시간 전</td>\n",
       "    </tr>\n",
       "    <tr>\n",
       "      <th>23</th>\n",
       "      <td>부산구치소장에 우희경 교정본부 교정기획과장</td>\n",
       "      <td>로이슈</td>\n",
       "      <td>21시간 전</td>\n",
       "    </tr>\n",
       "    <tr>\n",
       "      <th>24</th>\n",
       "      <td>부산구치소, 직원성금으로 추석맞이 사회복지시설 4곳 위문</td>\n",
       "      <td>로이슈</td>\n",
       "      <td>1일 전</td>\n",
       "    </tr>\n",
       "    <tr>\n",
       "      <th>25</th>\n",
       "      <td>부산제일라이온스클럽, 코로나19 예방 면마스크 2300장 부산구치소에 기증</td>\n",
       "      <td>로이슈</td>\n",
       "      <td>2일 전</td>\n",
       "    </tr>\n",
       "    <tr>\n",
       "      <th>26</th>\n",
       "      <td>부산구치소, 엄궁중·동주중에 교정장학금 전달</td>\n",
       "      <td>파이낸셜뉴스</td>\n",
       "      <td>2020.09.08.</td>\n",
       "    </tr>\n",
       "    <tr>\n",
       "      <th>27</th>\n",
       "      <td>권영찬, 생애 첫 오디션으로 넷플릭스 ‘보건교사 안은영’으로 주조연 데뷔!</td>\n",
       "      <td>MBC연예</td>\n",
       "      <td>3일 전</td>\n",
       "    </tr>\n",
       "    <tr>\n",
       "      <th>28</th>\n",
       "      <td>권영찬, 넷플릭스 '보건교사 안은영' 캐스팅</td>\n",
       "      <td>톱데일리</td>\n",
       "      <td>3일 전</td>\n",
       "    </tr>\n",
       "    <tr>\n",
       "      <th>29</th>\n",
       "      <td>[포토] 부산구치소 직원들, 사상구 관내 중학생에게 장학금 전달</td>\n",
       "      <td>시장경제신문</td>\n",
       "      <td>2020.09.09.</td>\n",
       "    </tr>\n",
       "    <tr>\n",
       "      <th>30</th>\n",
       "      <td>\"아, XX\"··· '보건교사 안은영' 예고편에 욕설 그대로 노출</td>\n",
       "      <td>서울경제</td>\n",
       "      <td>2020.08.25.</td>\n",
       "    </tr>\n",
       "    <tr>\n",
       "      <th>31</th>\n",
       "      <td>부산구치소, 청렴 실천 결의대회 ‘비대면’으로 실시</td>\n",
       "      <td>파이낸셜뉴스언론사 선정</td>\n",
       "      <td>2020.08.21.</td>\n",
       "    </tr>\n",
       "    <tr>\n",
       "      <th>32</th>\n",
       "      <td>박준희 부산구치소 교정위원, 늦더위 극복 얼음생수 기증</td>\n",
       "      <td>한국경제</td>\n",
       "      <td>2020.08.30.</td>\n",
       "    </tr>\n",
       "    <tr>\n",
       "      <th>33</th>\n",
       "      <td>박준희 교정협 위원, 부산구치소에 얼음생수 기증</td>\n",
       "      <td>파이낸셜뉴스</td>\n",
       "      <td>2020.08.25.</td>\n",
       "    </tr>\n",
       "    <tr>\n",
       "      <th>34</th>\n",
       "      <td>부산구치소, 비대면 청렴 실천 결의대회</td>\n",
       "      <td>한국경제</td>\n",
       "      <td>2020.08.22.</td>\n",
       "    </tr>\n",
       "    <tr>\n",
       "      <th>35</th>\n",
       "      <td>부산구치소 청렴 실천 결의대회</td>\n",
       "      <td>부산일보</td>\n",
       "      <td>2020.08.23.</td>\n",
       "    </tr>\n",
       "    <tr>\n",
       "      <th>36</th>\n",
       "      <td>왓챠 신작 소개! &lt;돈 워리&gt;, &lt;상견니&gt;, &lt;퍼펙트맨&gt; 등</td>\n",
       "      <td>무비스트</td>\n",
       "      <td>2020.09.04.</td>\n",
       "    </tr>\n",
       "    <tr>\n",
       "      <th>37</th>\n",
       "      <td>[포토뉴스] 부산구치소 수용자 생수 기증</td>\n",
       "      <td>부산일보</td>\n",
       "      <td>2020.08.25.</td>\n",
       "    </tr>\n",
       "    <tr>\n",
       "      <th>38</th>\n",
       "      <td>'보건교사 안은영' 정유미-남주혁, 넷플릭스 예고편에 기대감 상승…\"충전부터...</td>\n",
       "      <td>톱스타뉴스</td>\n",
       "      <td>2020.08.25.</td>\n",
       "    </tr>\n",
       "    <tr>\n",
       "      <th>39</th>\n",
       "      <td>유태오, 넷플릭스 '보건교사 안은영' 영어선생님役 출연 [공식]</td>\n",
       "      <td>더셀럽</td>\n",
       "      <td>2020.08.20.</td>\n",
       "    </tr>\n",
       "  </tbody>\n",
       "</table>\n",
       "</div>"
      ],
      "text/plain": [
       "                                               제목           신문사          발행일\n",
       "0                  유태오, 넷플릭스 '보건교사 안은영' 영어교사 역 발탁           뉴시스  2020.08.20.\n",
       "1                                  부산구치소 복지시설 위문품          부산일보       14시간 전\n",
       "2                         부산구치소장에 우희경 교정본부 교정기획과장           로이슈       20시간 전\n",
       "3                 부산구치소, 직원성금으로 추석맞이 사회복지시설 4곳 위문           로이슈         1일 전\n",
       "4       부산제일라이온스클럽, 코로나19 예방 면마스크 2300장 부산구치소에 기증           로이슈         2일 전\n",
       "5                        부산구치소, 엄궁중·동주중에 교정장학금 전달        파이낸셜뉴스  2020.09.08.\n",
       "6       권영찬, 생애 첫 오디션으로 넷플릭스 ‘보건교사 안은영’으로 주조연 데뷔!         MBC연예         3일 전\n",
       "7                        권영찬, 넷플릭스 '보건교사 안은영' 캐스팅          톱데일리         3일 전\n",
       "8             [포토] 부산구치소 직원들, 사상구 관내 중학생에게 장학금 전달        시장경제신문  2020.09.09.\n",
       "9            \"아, XX\"··· '보건교사 안은영' 예고편에 욕설 그대로 노출          서울경제  2020.08.25.\n",
       "10           \"아, XX\"··· '보건교사 안은영' 예고편에 욕설 그대로 노출          서울경제  2020.08.25.\n",
       "11                   부산구치소, 청렴 실천 결의대회 ‘비대면’으로 실시  파이낸셜뉴스언론사 선정  2020.08.21.\n",
       "12                 박준희 부산구치소 교정위원, 늦더위 극복 얼음생수 기증          한국경제  2020.08.30.\n",
       "13                     박준희 교정협 위원, 부산구치소에 얼음생수 기증        파이낸셜뉴스  2020.08.25.\n",
       "14                          부산구치소, 비대면 청렴 실천 결의대회          한국경제  2020.08.22.\n",
       "15                               부산구치소 청렴 실천 결의대회          부산일보  2020.08.23.\n",
       "16              왓챠 신작 소개! <돈 워리>, <상견니>, <퍼펙트맨> 등          무비스트  2020.09.04.\n",
       "17                         [포토뉴스] 부산구치소 수용자 생수 기증          부산일보  2020.08.25.\n",
       "18  '보건교사 안은영' 정유미-남주혁, 넷플릭스 예고편에 기대감 상승…\"충전부터...         톱스타뉴스  2020.08.25.\n",
       "19            유태오, 넷플릭스 '보건교사 안은영' 영어선생님役 출연 [공식]           더셀럽  2020.08.20.\n",
       "20            유태오, 넷플릭스 '보건교사 안은영' 출연…영어 교사 메켄지 역           뉴스1  2020.08.20.\n",
       "21                 유태오, 넷플릭스 '보건교사 안은영' 영어교사 역 발탁           뉴시스  2020.08.20.\n",
       "22                                 부산구치소 복지시설 위문품          부산일보       14시간 전\n",
       "23                        부산구치소장에 우희경 교정본부 교정기획과장           로이슈       21시간 전\n",
       "24                부산구치소, 직원성금으로 추석맞이 사회복지시설 4곳 위문           로이슈         1일 전\n",
       "25      부산제일라이온스클럽, 코로나19 예방 면마스크 2300장 부산구치소에 기증           로이슈         2일 전\n",
       "26                       부산구치소, 엄궁중·동주중에 교정장학금 전달        파이낸셜뉴스  2020.09.08.\n",
       "27      권영찬, 생애 첫 오디션으로 넷플릭스 ‘보건교사 안은영’으로 주조연 데뷔!         MBC연예         3일 전\n",
       "28                       권영찬, 넷플릭스 '보건교사 안은영' 캐스팅          톱데일리         3일 전\n",
       "29            [포토] 부산구치소 직원들, 사상구 관내 중학생에게 장학금 전달        시장경제신문  2020.09.09.\n",
       "30           \"아, XX\"··· '보건교사 안은영' 예고편에 욕설 그대로 노출          서울경제  2020.08.25.\n",
       "31                   부산구치소, 청렴 실천 결의대회 ‘비대면’으로 실시  파이낸셜뉴스언론사 선정  2020.08.21.\n",
       "32                 박준희 부산구치소 교정위원, 늦더위 극복 얼음생수 기증          한국경제  2020.08.30.\n",
       "33                     박준희 교정협 위원, 부산구치소에 얼음생수 기증        파이낸셜뉴스  2020.08.25.\n",
       "34                          부산구치소, 비대면 청렴 실천 결의대회          한국경제  2020.08.22.\n",
       "35                               부산구치소 청렴 실천 결의대회          부산일보  2020.08.23.\n",
       "36              왓챠 신작 소개! <돈 워리>, <상견니>, <퍼펙트맨> 등          무비스트  2020.09.04.\n",
       "37                         [포토뉴스] 부산구치소 수용자 생수 기증          부산일보  2020.08.25.\n",
       "38  '보건교사 안은영' 정유미-남주혁, 넷플릭스 예고편에 기대감 상승…\"충전부터...         톱스타뉴스  2020.08.25.\n",
       "39            유태오, 넷플릭스 '보건교사 안은영' 영어선생님役 출연 [공식]           더셀럽  2020.08.20."
      ]
     },
     "execution_count": 13,
     "metadata": {},
     "output_type": "execute_result"
    }
   ],
   "source": [
    "total = total.reset_index(drop=True)\n",
    "total"
   ]
  },
  {
   "cell_type": "code",
   "execution_count": null,
   "metadata": {},
   "outputs": [],
   "source": [
    "total.to_excel('나이와결혼여부.xlsx', index=False)"
   ]
  }
 ],
 "metadata": {
  "kernelspec": {
   "display_name": "Python 3",
   "language": "python",
   "name": "python3"
  },
  "language_info": {
   "codemirror_mode": {
    "name": "ipython",
    "version": 3
   },
   "file_extension": ".py",
   "mimetype": "text/x-python",
   "name": "python",
   "nbconvert_exporter": "python",
   "pygments_lexer": "ipython3",
   "version": "3.7.7"
  }
 },
 "nbformat": 4,
 "nbformat_minor": 4
}

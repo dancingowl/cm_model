{
 "cells": [
  {
   "cell_type": "markdown",
   "metadata": {},
   "source": [
    "# 나이&결혼여부"
   ]
  },
  {
   "cell_type": "code",
   "execution_count": 1,
   "metadata": {},
   "outputs": [],
   "source": [
    "import requests\n",
    "from bs4 import BeautifulSoup as bs"
   ]
  },
  {
   "cell_type": "code",
   "execution_count": 2,
   "metadata": {},
   "outputs": [],
   "source": [
    "from selenium import webdriver\n",
    "from selenium.webdriver.common.keys import Keys"
   ]
  },
  {
   "cell_type": "code",
   "execution_count": 3,
   "metadata": {},
   "outputs": [],
   "source": [
    "d = webdriver.Chrome(\"c:/Chrome/chromedriver.exe\")"
   ]
  },
  {
   "cell_type": "code",
   "execution_count": 4,
   "metadata": {},
   "outputs": [],
   "source": [
    "d.get(\"https://www.google.com\")"
   ]
  },
  {
   "cell_type": "code",
   "execution_count": 5,
   "metadata": {},
   "outputs": [],
   "source": [
    "# keywords =  ['장성규', '김우빈']\n",
    "keywords =  ['장성규', '김우빈','김연아', '이순재', '손흥민', '안재홍',  '유재석', '정준하', '정형돈',  '장도연' ]\n",
    "\n",
    "import pandas as pd\n",
    "total = pd.DataFrame()\n",
    "\n",
    "for keyword in keywords:\n",
    "    key = d.find_element_by_css_selector('.gLFyf.gsfi').send_keys('{} 나이'.format(keyword)) #검색창 keywords입력\n",
    "    d.find_element_by_css_selector('.gLFyf.gsfi').send_keys(Keys.ENTER) # enter키 동작\n",
    "    \n",
    "    html = d.page_source\n",
    "    google = bs(html, 'html.parser')\n",
    "    google.find('div', class_= 'HwtpBd gsrt PZPZlf').find('div', class_='yxAsKe kZ91ed').text\n",
    "    birthday = google.find('div', class_= 'HwtpBd gsrt PZPZlf').find('div', class_='yxAsKe kZ91ed').text\n",
    "    ah = [f'{keyword}', birthday]\n",
    "    \n",
    "    d.back() #뒤로가기\n",
    "    \n",
    "    key = d.find_element_by_css_selector('.gLFyf.gsfi').send_keys('{} 결혼기념일'.format(keyword))\n",
    "    d.find_element_by_css_selector('.gLFyf.gsfi').send_keys(Keys.ENTER)\n",
    "    \n",
    "    html = d.page_source\n",
    "    google = bs(html, 'html.parser')\n",
    "    \n",
    "    try:\n",
    "        google.find('div', class_= 'Z0LcW XcVN5d').text\n",
    "        marry = google.find('div', class_= 'Z0LcW XcVN5d').text\n",
    "        ah.append(marry)\n",
    "        total = total.append(pd.DataFrame({ \"이름\":[ah[0]], \"생년월일\":[ah[1]], \"결혼여부\" : [ah[2]] }))\n",
    "    except:\n",
    "        marry = '미혼'\n",
    "        ah.append(marry)\n",
    "   \n",
    "        total = total.append(pd.DataFrame({ \"이름\":[ah[0]], \"생년월일\":[ah[1]], \"결혼여부\" : [ah[2]] }))\n",
    "\n",
    "    d.back() #뒤로가기  "
   ]
  },
  {
   "cell_type": "code",
   "execution_count": 6,
   "metadata": {},
   "outputs": [
    {
     "data": {
      "text/html": [
       "<div>\n",
       "<style scoped>\n",
       "    .dataframe tbody tr th:only-of-type {\n",
       "        vertical-align: middle;\n",
       "    }\n",
       "\n",
       "    .dataframe tbody tr th {\n",
       "        vertical-align: top;\n",
       "    }\n",
       "\n",
       "    .dataframe thead th {\n",
       "        text-align: right;\n",
       "    }\n",
       "</style>\n",
       "<table border=\"1\" class=\"dataframe\">\n",
       "  <thead>\n",
       "    <tr style=\"text-align: right;\">\n",
       "      <th></th>\n",
       "      <th>이름</th>\n",
       "      <th>생년월일</th>\n",
       "      <th>결혼여부</th>\n",
       "    </tr>\n",
       "  </thead>\n",
       "  <tbody>\n",
       "    <tr>\n",
       "      <th>0</th>\n",
       "      <td>장성규</td>\n",
       "      <td>1983년 4월 21일</td>\n",
       "      <td>2014년 5월 11일</td>\n",
       "    </tr>\n",
       "    <tr>\n",
       "      <th>0</th>\n",
       "      <td>김우빈</td>\n",
       "      <td>1989년 7월 16일</td>\n",
       "      <td>미혼</td>\n",
       "    </tr>\n",
       "    <tr>\n",
       "      <th>0</th>\n",
       "      <td>김연아</td>\n",
       "      <td>1990년 9월 5일</td>\n",
       "      <td>미혼</td>\n",
       "    </tr>\n",
       "    <tr>\n",
       "      <th>0</th>\n",
       "      <td>이순재</td>\n",
       "      <td>1934년 11월 16일</td>\n",
       "      <td>1966년</td>\n",
       "    </tr>\n",
       "    <tr>\n",
       "      <th>0</th>\n",
       "      <td>손흥민</td>\n",
       "      <td>1992년 7월 8일</td>\n",
       "      <td>미혼</td>\n",
       "    </tr>\n",
       "    <tr>\n",
       "      <th>0</th>\n",
       "      <td>안재홍</td>\n",
       "      <td>1986년 3월 31일</td>\n",
       "      <td>미혼</td>\n",
       "    </tr>\n",
       "    <tr>\n",
       "      <th>0</th>\n",
       "      <td>유재석</td>\n",
       "      <td>1972년 8월 14일</td>\n",
       "      <td>2008년 7월 6일</td>\n",
       "    </tr>\n",
       "    <tr>\n",
       "      <th>0</th>\n",
       "      <td>정준하</td>\n",
       "      <td>1971년 3월 18일</td>\n",
       "      <td>2012년 5월 20일</td>\n",
       "    </tr>\n",
       "    <tr>\n",
       "      <th>0</th>\n",
       "      <td>정형돈</td>\n",
       "      <td>1978년 3월 15일</td>\n",
       "      <td>2009년 9월 13일</td>\n",
       "    </tr>\n",
       "    <tr>\n",
       "      <th>0</th>\n",
       "      <td>장도연</td>\n",
       "      <td>1985년 3월 10일</td>\n",
       "      <td>미혼</td>\n",
       "    </tr>\n",
       "  </tbody>\n",
       "</table>\n",
       "</div>"
      ],
      "text/plain": [
       "    이름           생년월일          결혼여부\n",
       "0  장성규   1983년 4월 21일  2014년 5월 11일\n",
       "0  김우빈   1989년 7월 16일            미혼\n",
       "0  김연아    1990년 9월 5일            미혼\n",
       "0  이순재  1934년 11월 16일         1966년\n",
       "0  손흥민    1992년 7월 8일            미혼\n",
       "0  안재홍   1986년 3월 31일            미혼\n",
       "0  유재석   1972년 8월 14일   2008년 7월 6일\n",
       "0  정준하   1971년 3월 18일  2012년 5월 20일\n",
       "0  정형돈   1978년 3월 15일  2009년 9월 13일\n",
       "0  장도연   1985년 3월 10일            미혼"
      ]
     },
     "execution_count": 6,
     "metadata": {},
     "output_type": "execute_result"
    }
   ],
   "source": [
    "total"
   ]
  },
  {
   "cell_type": "code",
   "execution_count": 7,
   "metadata": {},
   "outputs": [],
   "source": [
    "total.to_excel('나이와결혼여부.xlsx', index=False) #데이터프레임 엑셀파일로 저장"
   ]
  }
 ],
 "metadata": {
  "kernelspec": {
   "display_name": "Python 3",
   "language": "python",
   "name": "python3"
  },
  "language_info": {
   "codemirror_mode": {
    "name": "ipython",
    "version": 3
   },
   "file_extension": ".py",
   "mimetype": "text/x-python",
   "name": "python",
   "nbconvert_exporter": "python",
   "pygments_lexer": "ipython3",
   "version": "3.7.7"
  }
 },
 "nbformat": 4,
 "nbformat_minor": 4
}

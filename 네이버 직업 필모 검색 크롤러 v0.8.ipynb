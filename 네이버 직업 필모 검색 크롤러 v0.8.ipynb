{
 "cells": [
  {
   "cell_type": "code",
   "execution_count": 2,
   "metadata": {},
   "outputs": [],
   "source": [
    "import requests\n",
    "import lxml\n",
    "import re\n",
    "from selenium import webdriver\n",
    "\n",
    "from bs4 import BeautifulSoup\n",
    "from urllib.parse import parse_qs, urlparse\n",
    "\n",
    "from dateutil.relativedelta import relativedelta\n",
    "from datetime import datetime\n",
    "import time\n",
    "\n",
    "import numpy as np\n",
    "import pandas as pd"
   ]
  },
  {
   "cell_type": "code",
   "execution_count": 3,
   "metadata": {},
   "outputs": [],
   "source": [
    "# 네이버 tv, 영화, 방송, 공연 등의 카테고리를 dict.key로 추가. dict.value는 당연히 해당 탭의 [컨텐츠 제목]\n",
    "# 만약 존재하지 않을 시 없는 채로 dict 생성.\n",
    "# 나중에 10명의 인물들의 dict를 DataFrame으로 취합."
   ]
  },
  {
   "cell_type": "markdown",
   "metadata": {},
   "source": [
    "## 셀레늄 드라이버 시작"
   ]
  },
  {
   "cell_type": "code",
   "execution_count": 4,
   "metadata": {},
   "outputs": [],
   "source": [
    "driver = webdriver.Chrome('D:/Google Drive/chromedriver_85.exe')\n",
    "driver.implicitly_wait(1)"
   ]
  },
  {
   "cell_type": "markdown",
   "metadata": {},
   "source": [
    "## 샘플 설정"
   ]
  },
  {
   "cell_type": "code",
   "execution_count": 12,
   "metadata": {},
   "outputs": [],
   "source": [
    "#x = input('검색어:')\n",
    "sample = ['장성규','김우빈','김연아','이순재','손흥민','안재홍','유재석','정준하','정형돈','장도연']\n",
    "#name = sample[0]\n",
    "#name"
   ]
  },
  {
   "cell_type": "markdown",
   "metadata": {},
   "source": [
    "## 파싱 준비"
   ]
  },
  {
   "cell_type": "code",
   "execution_count": 6,
   "metadata": {},
   "outputs": [],
   "source": [
    "def ready_parcing(name):\n",
    "    driver.get('https://people.search.naver.com/')\n",
    "    driver.find_element_by_name('query').send_keys(name)\n",
    "    driver.find_element_by_xpath('//*[@id=\"search_form\"]/fieldset/input').click()\n",
    "\n",
    "    driver.find_element_by_xpath('//*[@id=\"content\"]/div/div[2]/div[2]/div[1]/div[1]/div/div/a/strong').click()\n",
    "    driver.implicitly_wait(1)\n",
    "\n",
    "    cur_page = driver.page_source\n",
    "    global soup\n",
    "    soup = BeautifulSoup(cur_page, 'html.parser')\n",
    "    "
   ]
  },
  {
   "cell_type": "markdown",
   "metadata": {},
   "source": [
    "## 인물 직업, 경력, 수상, 학력 사항"
   ]
  },
  {
   "cell_type": "code",
   "execution_count": 7,
   "metadata": {},
   "outputs": [],
   "source": [
    "def get_profile(name):\n",
    "    \n",
    "    df_awards = np.nan # 데이터프레임 초기화\n",
    "    df_career = np.nan # 데이터프레임 초기화\n",
    "    \n",
    "    df = pd.DataFrame()\n",
    "    df_awards = pd.DataFrame(data = None)\n",
    "    df_career = pd.DataFrame(data = None)\n",
    "    dict_ = {}\n",
    "    dict_['Name'] = name\n",
    "\n",
    "    job = soup.find_all('dl', class_ = 'who')[0].find_all('dd', class_ = 'sub')[0].text.strip()\n",
    "    dict_['Job'] = job\n",
    "\n",
    "    for i in soup.find_all('div', class_ = 'record'):\n",
    "\n",
    "        label = i.find_all('h3', class_ = 'blind')[0].text.strip()\n",
    "\n",
    "        if label == '경력사항':\n",
    "            career = i.find_all('p')\n",
    "            career_date = i.find_all('dt')\n",
    "            career_list = []\n",
    "            career_date_list = []\n",
    "            for o in career:\n",
    "                career_list.append(o.text.strip())\n",
    "\n",
    "            for u in career_date:\n",
    "                career_date_list.append(u.text.strip())      \n",
    "\n",
    "            career_str = ' | '.join(career_list)  \n",
    "            dict_['Career_cnt'] = len(career_list)\n",
    "\n",
    "            df_career['Date'] = career_date_list\n",
    "            df_career['Career'] = career_list\n",
    "            df_career['Name'] = name\n",
    "\n",
    "        elif label == '학력사항':\n",
    "            education = i.find_all('dd')\n",
    "            education_list = []\n",
    "            for o in education:\n",
    "                education_list.append(o.text.strip())\n",
    "            education_str = ' | '.join(education_list)  \n",
    "            dict_['Education'] = education_str\n",
    "\n",
    "        elif label == '수상내역':\n",
    "            award = i.find_all('p')\n",
    "            award_date = i.find_all('dt')\n",
    "            award_list = []\n",
    "            award_date_list = []\n",
    "\n",
    "            for o in award:\n",
    "                award_list.append(o.text.strip())\n",
    "\n",
    "            for u in award_date:\n",
    "                award_date_list.append(u.text.strip())\n",
    "\n",
    "            dict_['Award_cnt'] = len(award_list)\n",
    "\n",
    "            df_awards['Date'] = award_date_list\n",
    "            df_awards['Award'] = award_list\n",
    "            df_awards['Name'] = name\n",
    "\n",
    "\n",
    "    # 없는 탭이 있을 경우 nan 값으로 대체\n",
    "    if 'Career_cnt' not in dict_.keys():\n",
    "        dict_['Career_cnt'] = np.nan\n",
    "    #     df_career = np.nan    \n",
    "    if 'Education' not in dict_.keys():\n",
    "        dict_['Education'] = np.nan\n",
    "    if 'Award_cnt' not in dict_.keys():\n",
    "        dict_['Award_cnt'] = np.nan\n",
    "\n",
    "#     print(dict_.keys())\n",
    "    df = pd.DataFrame.from_dict([dict_])\n",
    "\n",
    "    return {'basic': df, 'awards' : df_awards, 'career': df_career}\n",
    "\n"
   ]
  },
  {
   "cell_type": "code",
   "execution_count": 27,
   "metadata": {},
   "outputs": [],
   "source": [
    "ready_parcing(name)"
   ]
  },
  {
   "cell_type": "code",
   "execution_count": 28,
   "metadata": {},
   "outputs": [
    {
     "data": {
      "text/plain": [
       "{'basic':   Name          Job  Career_cnt   Education  Award_cnt\n",
       " 0  장성규  방송연예인, 아나운서           1  서울시립대학교 경제          2,\n",
       " 'awards':    Date                                              Award Name\n",
       " 0  2019  MBC 방송연예대상 예능부문 남자 신인상 (마이 리틀 텔레비전 V2, 전지적 참견 시점)  장성규\n",
       " 1  2019                MBC 방송연예대상 라디오부문 신인상 (굿모닝FM 장성규입니다)  장성규,\n",
       " 'career':         Date     Career Name\n",
       " 0  ~ 2019.03  JTBC 아나운서  장성규}"
      ]
     },
     "execution_count": 28,
     "metadata": {},
     "output_type": "execute_result"
    }
   ],
   "source": [
    "get_profile(name)"
   ]
  },
  {
   "cell_type": "code",
   "execution_count": 29,
   "metadata": {},
   "outputs": [
    {
     "data": {
      "text/html": [
       "<div>\n",
       "<style scoped>\n",
       "    .dataframe tbody tr th:only-of-type {\n",
       "        vertical-align: middle;\n",
       "    }\n",
       "\n",
       "    .dataframe tbody tr th {\n",
       "        vertical-align: top;\n",
       "    }\n",
       "\n",
       "    .dataframe thead th {\n",
       "        text-align: right;\n",
       "    }\n",
       "</style>\n",
       "<table border=\"1\" class=\"dataframe\">\n",
       "  <thead>\n",
       "    <tr style=\"text-align: right;\">\n",
       "      <th></th>\n",
       "      <th>Date</th>\n",
       "      <th>Career</th>\n",
       "      <th>Name</th>\n",
       "    </tr>\n",
       "  </thead>\n",
       "  <tbody>\n",
       "    <tr>\n",
       "      <th>0</th>\n",
       "      <td>~ 2019.03</td>\n",
       "      <td>JTBC 아나운서</td>\n",
       "      <td>장성규</td>\n",
       "    </tr>\n",
       "  </tbody>\n",
       "</table>\n",
       "</div>"
      ],
      "text/plain": [
       "        Date     Career Name\n",
       "0  ~ 2019.03  JTBC 아나운서  장성규"
      ]
     },
     "execution_count": 29,
     "metadata": {},
     "output_type": "execute_result"
    }
   ],
   "source": [
    "get_profile(name)['career']"
   ]
  },
  {
   "cell_type": "code",
   "execution_count": 30,
   "metadata": {},
   "outputs": [
    {
     "data": {
      "text/html": [
       "<div>\n",
       "<style scoped>\n",
       "    .dataframe tbody tr th:only-of-type {\n",
       "        vertical-align: middle;\n",
       "    }\n",
       "\n",
       "    .dataframe tbody tr th {\n",
       "        vertical-align: top;\n",
       "    }\n",
       "\n",
       "    .dataframe thead th {\n",
       "        text-align: right;\n",
       "    }\n",
       "</style>\n",
       "<table border=\"1\" class=\"dataframe\">\n",
       "  <thead>\n",
       "    <tr style=\"text-align: right;\">\n",
       "      <th></th>\n",
       "      <th>Name</th>\n",
       "      <th>Job</th>\n",
       "      <th>Career_cnt</th>\n",
       "      <th>Education</th>\n",
       "      <th>Award_cnt</th>\n",
       "    </tr>\n",
       "  </thead>\n",
       "  <tbody>\n",
       "    <tr>\n",
       "      <th>0</th>\n",
       "      <td>장성규</td>\n",
       "      <td>방송연예인, 아나운서</td>\n",
       "      <td>1</td>\n",
       "      <td>서울시립대학교 경제</td>\n",
       "      <td>2</td>\n",
       "    </tr>\n",
       "  </tbody>\n",
       "</table>\n",
       "</div>"
      ],
      "text/plain": [
       "  Name          Job  Career_cnt   Education  Award_cnt\n",
       "0  장성규  방송연예인, 아나운서           1  서울시립대학교 경제          2"
      ]
     },
     "execution_count": 30,
     "metadata": {},
     "output_type": "execute_result"
    }
   ],
   "source": [
    "get_profile(name)['basic']"
   ]
  },
  {
   "cell_type": "code",
   "execution_count": 14,
   "metadata": {},
   "outputs": [],
   "source": [
    "ready_parcing('김연아')"
   ]
  },
  {
   "cell_type": "code",
   "execution_count": 15,
   "metadata": {},
   "outputs": [
    {
     "data": {
      "text/html": [
       "<div>\n",
       "<style scoped>\n",
       "    .dataframe tbody tr th:only-of-type {\n",
       "        vertical-align: middle;\n",
       "    }\n",
       "\n",
       "    .dataframe tbody tr th {\n",
       "        vertical-align: top;\n",
       "    }\n",
       "\n",
       "    .dataframe thead th {\n",
       "        text-align: right;\n",
       "    }\n",
       "</style>\n",
       "<table border=\"1\" class=\"dataframe\">\n",
       "  <thead>\n",
       "    <tr style=\"text-align: right;\">\n",
       "      <th></th>\n",
       "      <th>Name</th>\n",
       "      <th>Job</th>\n",
       "      <th>Career_cnt</th>\n",
       "      <th>Education</th>\n",
       "      <th>Award_cnt</th>\n",
       "    </tr>\n",
       "  </thead>\n",
       "  <tbody>\n",
       "    <tr>\n",
       "      <th>0</th>\n",
       "      <td>김연아</td>\n",
       "      <td>전 피겨스케이팅선수</td>\n",
       "      <td>23</td>\n",
       "      <td>고려대학교 대학원 체육학 | 고려대학교 체육교육학 학사 | 수리고등학교 | 도장중학...</td>\n",
       "      <td>79</td>\n",
       "    </tr>\n",
       "  </tbody>\n",
       "</table>\n",
       "</div>"
      ],
      "text/plain": [
       "  Name         Job  Career_cnt  \\\n",
       "0  김연아  전 피겨스케이팅선수          23   \n",
       "\n",
       "                                           Education  Award_cnt  \n",
       "0  고려대학교 대학원 체육학 | 고려대학교 체육교육학 학사 | 수리고등학교 | 도장중학...         79  "
      ]
     },
     "execution_count": 15,
     "metadata": {},
     "output_type": "execute_result"
    }
   ],
   "source": [
    "get_profile('김연아')['basic']"
   ]
  },
  {
   "cell_type": "code",
   "execution_count": 17,
   "metadata": {},
   "outputs": [
    {
     "data": {
      "text/plain": [
       "['장성규', '김우빈', '김연아', '이순재', '손흥민', '안재홍', '유재석', '정준하', '정형돈', '장도연']"
      ]
     },
     "execution_count": 17,
     "metadata": {},
     "output_type": "execute_result"
    }
   ],
   "source": [
    "for i in"
   ]
  },
  {
   "cell_type": "code",
   "execution_count": 22,
   "metadata": {},
   "outputs": [
    {
     "name": "stdout",
     "output_type": "stream",
     "text": [
      "장성규 스크랩 중\n",
      "김우빈 스크랩 중\n",
      "김연아 스크랩 중\n",
      "이순재 스크랩 중\n",
      "손흥민 스크랩 중\n",
      "안재홍 스크랩 중\n",
      "유재석 스크랩 중\n",
      "정준하 스크랩 중\n",
      "정형돈 스크랩 중\n",
      "장도연 스크랩 중\n"
     ]
    }
   ],
   "source": [
    "model_basic = pd.DataFrame()\n",
    "model_career = pd.DataFrame()\n",
    "model_awards = pd.DataFrame()\n",
    "\n",
    "for name in sample:\n",
    "    print(name, '스크랩 중')\n",
    "    ready_parcing(name)\n",
    "    model_basic = model_basic.append(get_profile(name)['basic'])\n",
    "    model_career = model_career.append(get_profile(name)['career'])\n",
    "    model_awards = model_awards.append(get_profile(name)['awards'])"
   ]
  },
  {
   "cell_type": "code",
   "execution_count": 23,
   "metadata": {},
   "outputs": [
    {
     "data": {
      "text/html": [
       "<div>\n",
       "<style scoped>\n",
       "    .dataframe tbody tr th:only-of-type {\n",
       "        vertical-align: middle;\n",
       "    }\n",
       "\n",
       "    .dataframe tbody tr th {\n",
       "        vertical-align: top;\n",
       "    }\n",
       "\n",
       "    .dataframe thead th {\n",
       "        text-align: right;\n",
       "    }\n",
       "</style>\n",
       "<table border=\"1\" class=\"dataframe\">\n",
       "  <thead>\n",
       "    <tr style=\"text-align: right;\">\n",
       "      <th></th>\n",
       "      <th>Name</th>\n",
       "      <th>Job</th>\n",
       "      <th>Career_cnt</th>\n",
       "      <th>Education</th>\n",
       "      <th>Award_cnt</th>\n",
       "    </tr>\n",
       "  </thead>\n",
       "  <tbody>\n",
       "    <tr>\n",
       "      <th>0</th>\n",
       "      <td>장성규</td>\n",
       "      <td>방송연예인, 아나운서</td>\n",
       "      <td>1.0</td>\n",
       "      <td>서울시립대학교 경제</td>\n",
       "      <td>2</td>\n",
       "    </tr>\n",
       "    <tr>\n",
       "      <th>0</th>\n",
       "      <td>김우빈</td>\n",
       "      <td>영화배우</td>\n",
       "      <td>12.0</td>\n",
       "      <td>NaN</td>\n",
       "      <td>8</td>\n",
       "    </tr>\n",
       "    <tr>\n",
       "      <th>0</th>\n",
       "      <td>김연아</td>\n",
       "      <td>전 피겨스케이팅선수</td>\n",
       "      <td>23.0</td>\n",
       "      <td>고려대학교 대학원 체육학 | 고려대학교 체육교육학 학사 | 수리고등학교 | 도장중학...</td>\n",
       "      <td>79</td>\n",
       "    </tr>\n",
       "    <tr>\n",
       "      <th>0</th>\n",
       "      <td>이순재</td>\n",
       "      <td>탤런트, 영화배우</td>\n",
       "      <td>22.0</td>\n",
       "      <td>서울대학교 철학 학사 | 서울고등학교</td>\n",
       "      <td>19</td>\n",
       "    </tr>\n",
       "    <tr>\n",
       "      <th>0</th>\n",
       "      <td>손흥민</td>\n",
       "      <td>축구선수</td>\n",
       "      <td>11.0</td>\n",
       "      <td>NaN</td>\n",
       "      <td>19</td>\n",
       "    </tr>\n",
       "    <tr>\n",
       "      <th>0</th>\n",
       "      <td>안재홍</td>\n",
       "      <td>영화배우</td>\n",
       "      <td>NaN</td>\n",
       "      <td>NaN</td>\n",
       "      <td>4</td>\n",
       "    </tr>\n",
       "    <tr>\n",
       "      <th>0</th>\n",
       "      <td>유재석</td>\n",
       "      <td>MC, 개그맨</td>\n",
       "      <td>NaN</td>\n",
       "      <td>서울예술대학교 방송연예학 중퇴 | 용문고등학교 | 수유중학교 | 유현초등학교</td>\n",
       "      <td>44</td>\n",
       "    </tr>\n",
       "    <tr>\n",
       "      <th>0</th>\n",
       "      <td>정준하</td>\n",
       "      <td>MC, 영화배우</td>\n",
       "      <td>3.0</td>\n",
       "      <td>강서고등학교 | 대림중학교 | 대림초등학교</td>\n",
       "      <td>9</td>\n",
       "    </tr>\n",
       "    <tr>\n",
       "      <th>0</th>\n",
       "      <td>정형돈</td>\n",
       "      <td>MC, 개그맨</td>\n",
       "      <td>1.0</td>\n",
       "      <td>인덕대학 방송연예학 | 부산전자공업고등학교</td>\n",
       "      <td>17</td>\n",
       "    </tr>\n",
       "    <tr>\n",
       "      <th>0</th>\n",
       "      <td>장도연</td>\n",
       "      <td>개그맨</td>\n",
       "      <td>NaN</td>\n",
       "      <td>경희대학교 시각디자인과 휴학</td>\n",
       "      <td>4</td>\n",
       "    </tr>\n",
       "  </tbody>\n",
       "</table>\n",
       "</div>"
      ],
      "text/plain": [
       "  Name          Job  Career_cnt  \\\n",
       "0  장성규  방송연예인, 아나운서         1.0   \n",
       "0  김우빈         영화배우        12.0   \n",
       "0  김연아   전 피겨스케이팅선수        23.0   \n",
       "0  이순재    탤런트, 영화배우        22.0   \n",
       "0  손흥민         축구선수        11.0   \n",
       "0  안재홍         영화배우         NaN   \n",
       "0  유재석      MC, 개그맨         NaN   \n",
       "0  정준하     MC, 영화배우         3.0   \n",
       "0  정형돈      MC, 개그맨         1.0   \n",
       "0  장도연          개그맨         NaN   \n",
       "\n",
       "                                           Education  Award_cnt  \n",
       "0                                         서울시립대학교 경제          2  \n",
       "0                                                NaN          8  \n",
       "0  고려대학교 대학원 체육학 | 고려대학교 체육교육학 학사 | 수리고등학교 | 도장중학...         79  \n",
       "0                               서울대학교 철학 학사 | 서울고등학교         19  \n",
       "0                                                NaN         19  \n",
       "0                                                NaN          4  \n",
       "0         서울예술대학교 방송연예학 중퇴 | 용문고등학교 | 수유중학교 | 유현초등학교         44  \n",
       "0                            강서고등학교 | 대림중학교 | 대림초등학교          9  \n",
       "0                            인덕대학 방송연예학 | 부산전자공업고등학교         17  \n",
       "0                                    경희대학교 시각디자인과 휴학          4  "
      ]
     },
     "execution_count": 23,
     "metadata": {},
     "output_type": "execute_result"
    }
   ],
   "source": [
    "model_basic"
   ]
  },
  {
   "cell_type": "code",
   "execution_count": 24,
   "metadata": {},
   "outputs": [
    {
     "data": {
      "text/html": [
       "<div>\n",
       "<style scoped>\n",
       "    .dataframe tbody tr th:only-of-type {\n",
       "        vertical-align: middle;\n",
       "    }\n",
       "\n",
       "    .dataframe tbody tr th {\n",
       "        vertical-align: top;\n",
       "    }\n",
       "\n",
       "    .dataframe thead th {\n",
       "        text-align: right;\n",
       "    }\n",
       "</style>\n",
       "<table border=\"1\" class=\"dataframe\">\n",
       "  <thead>\n",
       "    <tr style=\"text-align: right;\">\n",
       "      <th></th>\n",
       "      <th>Date</th>\n",
       "      <th>Career</th>\n",
       "      <th>Name</th>\n",
       "    </tr>\n",
       "  </thead>\n",
       "  <tbody>\n",
       "    <tr>\n",
       "      <th>0</th>\n",
       "      <td>~ 2019.03</td>\n",
       "      <td>JTBC 아나운서</td>\n",
       "      <td>장성규</td>\n",
       "    </tr>\n",
       "    <tr>\n",
       "      <th>0</th>\n",
       "      <td>2018</td>\n",
       "      <td>평창동계올림픽 홍보대사</td>\n",
       "      <td>김우빈</td>\n",
       "    </tr>\n",
       "    <tr>\n",
       "      <th>1</th>\n",
       "      <td>2013.09</td>\n",
       "      <td>전주대학교 명예홍보대사</td>\n",
       "      <td>김우빈</td>\n",
       "    </tr>\n",
       "    <tr>\n",
       "      <th>2</th>\n",
       "      <td>2013.08</td>\n",
       "      <td>수원 정보과학축제 홍보대사</td>\n",
       "      <td>김우빈</td>\n",
       "    </tr>\n",
       "    <tr>\n",
       "      <th>3</th>\n",
       "      <td>연도없음</td>\n",
       "      <td>서울컬렉션 모델</td>\n",
       "      <td>김우빈</td>\n",
       "    </tr>\n",
       "    <tr>\n",
       "      <th>...</th>\n",
       "      <td>...</td>\n",
       "      <td>...</td>\n",
       "      <td>...</td>\n",
       "    </tr>\n",
       "    <tr>\n",
       "      <th>10</th>\n",
       "      <td>2009</td>\n",
       "      <td>U-17 청소년월드컵 국가대표</td>\n",
       "      <td>손흥민</td>\n",
       "    </tr>\n",
       "    <tr>\n",
       "      <th>0</th>\n",
       "      <td>2014.07</td>\n",
       "      <td>다일공동체 홍보대사</td>\n",
       "      <td>정준하</td>\n",
       "    </tr>\n",
       "    <tr>\n",
       "      <th>1</th>\n",
       "      <td>2007.04</td>\n",
       "      <td>범국민 지식재산권보호연합회 홍보대사</td>\n",
       "      <td>정준하</td>\n",
       "    </tr>\n",
       "    <tr>\n",
       "      <th>2</th>\n",
       "      <td>2004</td>\n",
       "      <td>소방방재본부 안전 홍보대사</td>\n",
       "      <td>정준하</td>\n",
       "    </tr>\n",
       "    <tr>\n",
       "      <th>0</th>\n",
       "      <td>2009.04</td>\n",
       "      <td>서울특별시 강서구 홍보대사</td>\n",
       "      <td>정형돈</td>\n",
       "    </tr>\n",
       "  </tbody>\n",
       "</table>\n",
       "<p>73 rows × 3 columns</p>\n",
       "</div>"
      ],
      "text/plain": [
       "         Date               Career Name\n",
       "0   ~ 2019.03            JTBC 아나운서  장성규\n",
       "0        2018         평창동계올림픽 홍보대사  김우빈\n",
       "1     2013.09         전주대학교 명예홍보대사  김우빈\n",
       "2     2013.08       수원 정보과학축제 홍보대사  김우빈\n",
       "3        연도없음             서울컬렉션 모델  김우빈\n",
       "..        ...                  ...  ...\n",
       "10       2009     U-17 청소년월드컵 국가대표  손흥민\n",
       "0     2014.07           다일공동체 홍보대사  정준하\n",
       "1     2007.04  범국민 지식재산권보호연합회 홍보대사  정준하\n",
       "2        2004       소방방재본부 안전 홍보대사  정준하\n",
       "0     2009.04       서울특별시 강서구 홍보대사  정형돈\n",
       "\n",
       "[73 rows x 3 columns]"
      ]
     },
     "execution_count": 24,
     "metadata": {},
     "output_type": "execute_result"
    }
   ],
   "source": [
    "model_career"
   ]
  },
  {
   "cell_type": "code",
   "execution_count": 25,
   "metadata": {},
   "outputs": [
    {
     "data": {
      "text/html": [
       "<div>\n",
       "<style scoped>\n",
       "    .dataframe tbody tr th:only-of-type {\n",
       "        vertical-align: middle;\n",
       "    }\n",
       "\n",
       "    .dataframe tbody tr th {\n",
       "        vertical-align: top;\n",
       "    }\n",
       "\n",
       "    .dataframe thead th {\n",
       "        text-align: right;\n",
       "    }\n",
       "</style>\n",
       "<table border=\"1\" class=\"dataframe\">\n",
       "  <thead>\n",
       "    <tr style=\"text-align: right;\">\n",
       "      <th></th>\n",
       "      <th>Date</th>\n",
       "      <th>Award</th>\n",
       "      <th>Name</th>\n",
       "    </tr>\n",
       "  </thead>\n",
       "  <tbody>\n",
       "    <tr>\n",
       "      <th>0</th>\n",
       "      <td>2019</td>\n",
       "      <td>MBC 방송연예대상 예능부문 남자 신인상 (마이 리틀 텔레비전 V2, 전지적 참견 시점)</td>\n",
       "      <td>장성규</td>\n",
       "    </tr>\n",
       "    <tr>\n",
       "      <th>1</th>\n",
       "      <td>2019</td>\n",
       "      <td>MBC 방송연예대상 라디오부문 신인상 (굿모닝FM 장성규입니다)</td>\n",
       "      <td>장성규</td>\n",
       "    </tr>\n",
       "    <tr>\n",
       "      <th>0</th>\n",
       "      <td>2014</td>\n",
       "      <td>제35회 청룡영화상 인기스타상</td>\n",
       "      <td>김우빈</td>\n",
       "    </tr>\n",
       "    <tr>\n",
       "      <th>1</th>\n",
       "      <td>연도없음</td>\n",
       "      <td>제51회 대종상영화제 하나금융스타상</td>\n",
       "      <td>김우빈</td>\n",
       "    </tr>\n",
       "    <tr>\n",
       "      <th>2</th>\n",
       "      <td>2014</td>\n",
       "      <td>제18회 부천국제판타스틱영화제 판타지아 어워드</td>\n",
       "      <td>김우빈</td>\n",
       "    </tr>\n",
       "    <tr>\n",
       "      <th>...</th>\n",
       "      <td>...</td>\n",
       "      <td>...</td>\n",
       "      <td>...</td>\n",
       "    </tr>\n",
       "    <tr>\n",
       "      <th>16</th>\n",
       "      <td>2002</td>\n",
       "      <td>KBS 개그맨선발대회 동상</td>\n",
       "      <td>정형돈</td>\n",
       "    </tr>\n",
       "    <tr>\n",
       "      <th>0</th>\n",
       "      <td>2019</td>\n",
       "      <td>MBC 방송연예대상 베스트 엔터테이너상 (같이 펀딩, 호구의 연애)</td>\n",
       "      <td>장도연</td>\n",
       "    </tr>\n",
       "    <tr>\n",
       "      <th>1</th>\n",
       "      <td>2013</td>\n",
       "      <td>제6회 메이크업 페스티벌 어워드 문화예술인희극부문</td>\n",
       "      <td>장도연</td>\n",
       "    </tr>\n",
       "    <tr>\n",
       "      <th>2</th>\n",
       "      <td>2012</td>\n",
       "      <td>제20회 대한민국문화연예대상 개그 최우수상</td>\n",
       "      <td>장도연</td>\n",
       "    </tr>\n",
       "    <tr>\n",
       "      <th>3</th>\n",
       "      <td>2012</td>\n",
       "      <td>제19회 대한민국연예예술상 여자 희극인상</td>\n",
       "      <td>장도연</td>\n",
       "    </tr>\n",
       "  </tbody>\n",
       "</table>\n",
       "<p>205 rows × 3 columns</p>\n",
       "</div>"
      ],
      "text/plain": [
       "    Date                                              Award Name\n",
       "0   2019  MBC 방송연예대상 예능부문 남자 신인상 (마이 리틀 텔레비전 V2, 전지적 참견 시점)  장성규\n",
       "1   2019                MBC 방송연예대상 라디오부문 신인상 (굿모닝FM 장성규입니다)  장성규\n",
       "0   2014                                   제35회 청룡영화상 인기스타상  김우빈\n",
       "1   연도없음                                제51회 대종상영화제 하나금융스타상  김우빈\n",
       "2   2014                          제18회 부천국제판타스틱영화제 판타지아 어워드  김우빈\n",
       "..   ...                                                ...  ...\n",
       "16  2002                                     KBS 개그맨선발대회 동상  정형돈\n",
       "0   2019              MBC 방송연예대상 베스트 엔터테이너상 (같이 펀딩, 호구의 연애)  장도연\n",
       "1   2013                        제6회 메이크업 페스티벌 어워드 문화예술인희극부문  장도연\n",
       "2   2012                            제20회 대한민국문화연예대상 개그 최우수상  장도연\n",
       "3   2012                             제19회 대한민국연예예술상 여자 희극인상  장도연\n",
       "\n",
       "[205 rows x 3 columns]"
      ]
     },
     "execution_count": 25,
     "metadata": {},
     "output_type": "execute_result"
    }
   ],
   "source": [
    "model_awards"
   ]
  },
  {
   "cell_type": "code",
   "execution_count": 28,
   "metadata": {},
   "outputs": [],
   "source": [
    "model_basic.to_csv(\"model_basic.csv\", index=False, encoding = 'utf-8-sig')\n",
    "model_career.to_csv(\"model_career.csv\", index=False, encoding = 'utf-8-sig')\n",
    "model_awards.to_csv(\"model_awards.csv\", index=False, encoding = 'utf-8-sig')"
   ]
  },
  {
   "cell_type": "markdown",
   "metadata": {},
   "source": [
    "## 출연 내역 상세"
   ]
  },
  {
   "cell_type": "code",
   "execution_count": 210,
   "metadata": {},
   "outputs": [],
   "source": [
    "# driver.find_element_by_xpath('//*[@id=\"listUI_76\"]/li[1]/span[1]/a').text.strip()"
   ]
  },
  {
   "cell_type": "code",
   "execution_count": 11,
   "metadata": {},
   "outputs": [],
   "source": [
    "#content > div > div.workact_wrap > div > div:nth-child(1) > div > div._panel_album > ul > li:nth-child(2) > span.tit_wrap._ellipsis > a > span.tit_main._text"
   ]
  },
  {
   "cell_type": "markdown",
   "metadata": {},
   "source": [
    "1. workact_header를 찾는다.\n",
    "2. 1.에서 '영화' 카테고리가 몇번째에 오는지 찾는다.\n",
    "3. 상세 내역이 2. 순서를 따르므로 순서대로 다음을 가져온다.\n",
    "    3.1. 제목\n",
    "    3.2. 연도\n",
    "    3.3. 역할 (없을 수도 있음)\n",
    "4. 한페이지에 5개씩 보여주므로 다음 페이지 버튼 클릭 수는 workact_header 의 건수//5 \n",
    "    4.1 정해진 횟수를 클릭하는게 아니라 try/except를 써서 다음 페이지 클릭 버튼이 없으면 continue/break/pass 를 써도 될 듯.\n",
    "    "
   ]
  },
  {
   "cell_type": "code",
   "execution_count": 21,
   "metadata": {},
   "outputs": [],
   "source": [
    "album_list = []\n",
    "onair_list = []\n",
    "filmo_list = []\n",
    "book_list = []\n",
    "etc_list = []"
   ]
  },
  {
   "cell_type": "code",
   "execution_count": 22,
   "metadata": {},
   "outputs": [],
   "source": [
    "class Switch:\n",
    "    def switch(self, arg):\n",
    "        self.case_name = 'case_' + str(arg)\n",
    "        self.case = getattr(self, self.case_name, lambda: 'default')\n",
    "        return self.case()\n",
    "    \n",
    "    def case_방송(self):\n",
    "        print('-----방송-----')\n",
    "        \n",
    "    def case_영화(self):\n",
    "        print('-----영화-----')\n",
    "        \n",
    "    def case_음악(self):\n",
    "        print('------음악-----')\n",
    "        \n",
    "    def case_도서(self):\n",
    "        print('-----도서-----')\n",
    "        \n",
    "    def case_공연(self):\n",
    "        print('-----공연-----')\n",
    "        \n",
    "    def case_기타(self):\n",
    "        print('-----default-----')"
   ]
  },
  {
   "cell_type": "code",
   "execution_count": 33,
   "metadata": {},
   "outputs": [
    {
     "name": "stdout",
     "output_type": "stream",
     "text": [
      "-----방송-----\n",
      "방송47건\n",
      "-----영화-----\n",
      "영화1건\n",
      "-----공연-----\n",
      "공연1건\n",
      "-----도서-----\n",
      "도서1건\n",
      "-----default-----\n",
      "기타3건\n"
     ]
    }
   ],
   "source": [
    "for i in soup.find_all('dl', class_ = 'workact_header')[0].find_all('span', class_ = 'kywrd'):\n",
    "#     print(i.text.strip())\n",
    "    cate = re.compile('[가-힣]+').findall(str(i.text.strip()))[0]\n",
    "    m = re.compile('[0-9]+').findall(str(i.text.strip()))[0]\n",
    "    Switch().switch(cate)\n",
    "    print(cate + m + '건')\n"
   ]
  },
  {
   "cell_type": "code",
   "execution_count": 67,
   "metadata": {},
   "outputs": [],
   "source": [
    "work_desc = soup.find_all('div', class_ = 'workact_dsc')[0]"
   ]
  },
  {
   "cell_type": "code",
   "execution_count": 94,
   "metadata": {},
   "outputs": [
    {
     "name": "stdout",
     "output_type": "stream",
     "text": [
      "--- 방송 ---\n",
      "2020\n",
      "추석특집 - 라면 당기는 시간\n",
      "\n",
      "--- 영화 ---\n",
      "2017년\n",
      "반드시 잡는다\n",
      "우정출연/뉴스앵커\n"
     ]
    }
   ],
   "source": [
    "# 시도 4\n",
    "p = re.compile('workact .+')\n",
    "workact = work_desc.find_all('div', class_ = p)\n",
    "\n",
    "for i in workact:\n",
    "    cate = i.find_all('strong')[0].text.strip()\n",
    "    \n",
    "    i.find_all()\n",
    "    if cate == '방송':\n",
    "        print('---', cate, '---')\n",
    "        year = i.find_all('span', class_ = 'status_sub')[-1].text.strip()\n",
    "        print(year)\n",
    "        title = i.find_all('a', class_ ='tit')[0].text.strip()\n",
    "        print(title)\n",
    "        as_ = '/'.join(re.compile('[가-힣]+').findall(i.find_all('span', class_ = 'status_sub')[0].text.strip()))\n",
    "        print(as_)\n",
    "\n",
    "    elif cate == '영화':\n",
    "        print('---', cate, '---')\n",
    "        year = i.find_all('span', class_ = 'status_sub')[-1].text.strip()\n",
    "        print(year)\n",
    "        title = i.find_all('a', class_ ='tit')[0].text.strip()\n",
    "        print(title)\n",
    "        as_ = '/'.join(re.compile('[가-힣]+').findall(i.find_all('span', class_ = 'status_sub')[0].text.strip()))\n",
    "        print(as_)\n",
    "#         for i in range(1, int(soup.find_all('div', class_ = 'workact type5')[0].find_all('span', class_ = 'count')[0].text.strip()[-1])+1):\n",
    "#         cur_page = driver.page_source\n",
    "#         soup = BeautifulSoup(cur_page, 'html.parser')\n",
    "        \n",
    "#         try:\n",
    "#             driver.find_element_by_xpath('//*[@id=\"pagination_76\"]/span[4]/a').click()\n",
    "#             print('[페이지 읽는 중...]')\n",
    "#             time.sleep(1)\n",
    "#         except:\n",
    "#             print('[마지막 페이지 읽는 중...]')\n",
    "#             time.sleep(1)\n",
    "            \n",
    "#         for o in soup.find('div', class_ = 'workact type5').find_all('span', class_ = 'tit_wrap'):\n",
    "#             try:\n",
    "#                 print(o.text.strip())\n",
    "#                 onair_list.append(o.text.strip())\n",
    "#                  #if int(soup.find('div', class_ = 'workact type5').find_all('span', class_ = 'count')[0].text.strip()[-1]) > 1:\n",
    "#             except:\n",
    "#                 print('끝: page out of range')\n",
    "        \n",
    "#     elif cate == '영화':\n",
    "        "
   ]
  },
  {
   "cell_type": "code",
   "execution_count": 66,
   "metadata": {},
   "outputs": [
    {
     "data": {
      "text/plain": [
       "'도서1건 내 인생이다 임마(오늘을 버텨내는 우리들에게)넥서스BOOKS2019.05.02. 이전이전{=pageNo} / {=totalPageNo}다음다음 도서 상세보기'"
      ]
     },
     "execution_count": 66,
     "metadata": {},
     "output_type": "execute_result"
    }
   ],
   "source": [
    "work_desc[3].text.strip()"
   ]
  },
  {
   "cell_type": "code",
   "execution_count": 57,
   "metadata": {
    "scrolled": true
   },
   "outputs": [
    {
     "ename": "TypeError",
     "evalue": "'str' object cannot be interpreted as an integer",
     "output_type": "error",
     "traceback": [
      "\u001b[1;31m---------------------------------------------------------------------------\u001b[0m",
      "\u001b[1;31mTypeError\u001b[0m                                 Traceback (most recent call last)",
      "\u001b[1;32m<ipython-input-57-30c7cafa1ab9>\u001b[0m in \u001b[0;36m<module>\u001b[1;34m\u001b[0m\n\u001b[0;32m      1\u001b[0m \u001b[1;31m# 시도 3\u001b[0m\u001b[1;33m\u001b[0m\u001b[1;33m\u001b[0m\u001b[1;33m\u001b[0m\u001b[0m\n\u001b[0;32m      2\u001b[0m \u001b[0mp\u001b[0m \u001b[1;33m=\u001b[0m \u001b[0mre\u001b[0m\u001b[1;33m.\u001b[0m\u001b[0mcompile\u001b[0m\u001b[1;33m(\u001b[0m\u001b[1;34m'workact .+'\u001b[0m\u001b[1;33m)\u001b[0m\u001b[1;33m\u001b[0m\u001b[1;33m\u001b[0m\u001b[0m\n\u001b[1;32m----> 3\u001b[1;33m \u001b[0mp\u001b[0m\u001b[1;33m.\u001b[0m\u001b[0mmatch\u001b[0m\u001b[1;33m(\u001b[0m\u001b[1;34m'workact ype5'\u001b[0m\u001b[1;33m,\u001b[0m \u001b[1;34m'work'\u001b[0m\u001b[1;33m)\u001b[0m\u001b[1;33m\u001b[0m\u001b[1;33m\u001b[0m\u001b[0m\n\u001b[0m",
      "\u001b[1;31mTypeError\u001b[0m: 'str' object cannot be interpreted as an integer"
     ]
    }
   ],
   "source": [
    "# 시도 3\n"
   ]
  },
  {
   "cell_type": "code",
   "execution_count": 47,
   "metadata": {},
   "outputs": [
    {
     "name": "stdout",
     "output_type": "stream",
     "text": [
      "방송\n"
     ]
    }
   ],
   "source": [
    "# 시도 1\n",
    "category_list = work_desc.find_all('strong', class_ = 'workact_tit')\n",
    "content_list = work_desc.find_all('ul')\n",
    "\n",
    "for x in work_desc.find_all('h3'):\n",
    "    label = x.find('strong').text.strip() # 방송\n",
    "#     if 'workact_tit' in str(x):\n",
    "#         label = x.find('strong',class_ = 'workact_tit').text.strip()\n",
    "# #         print(i.find_all('strong', class_ = 'workact_tit')[1].text.strip())\n",
    "#     else: continue\n",
    "    print(label)\n",
    "    if label == '방송':\n",
    "        print('----'+label+'----')\n",
    "        \n",
    "        for i in work_desc.find_all('div'):\n",
    "            i.get_text()\n",
    "            \n",
    "#             i.find_all('span', class_ = 'count')[0].text.strip()[-1])+1):\n",
    "#                 cur_page = driver.page_source\n",
    "#                 soup = BeautifulSoup(cur_page, 'html.parser')\n",
    "\n",
    "#                 try:\n",
    "#                     driver.find_element_by_xpath('//*[@id=\"pagination_76\"]/span[4]/a').click()\n",
    "#                     print('[페이지 읽는 중...]')\n",
    "#                     time.sleep(1)\n",
    "#                 except:\n",
    "#                     print('[마지막 페이지 읽는 중...]')\n",
    "#                     time.sleep(1)\n",
    "\n",
    "#                 for o in soup.find('div', class_ = 'workact type5').find_all('span', class_ = 'tit_wrap'):\n",
    "#                     try:\n",
    "#                         print(o.text.strip())\n",
    "#                         onair_list.append(o.text.strip())\n",
    "#                          #if int(soup.find('div', class_ = 'workact type5').find_all('span', class_ = 'count')[0].text.strip()[-1]) > 1:\n",
    "#                     except:\n",
    "#                         print('끝: page out of range')\n",
    "                        \n",
    "    elif label == '영화':\n",
    "        print('----'+label+'----')\n",
    "        \n",
    "    \n",
    "    elif label == '음악':\n",
    "        print('----'+label+'----')\n",
    "    \n",
    "    elif label == '도서':\n",
    "        print('----'+label+'----')\n",
    "        \n",
    "    elif label == '공연':\n",
    "        print('----'+label+'----')\n",
    "    \n",
    "    elif label == '기타':\n",
    "        print('----'+label+'----')\n",
    "    \n",
    "    \n",
    "    \n",
    "    \n",
    "    else:\n",
    "        print('뭔가 잘못됐다.')\n",
    "        \n",
    "        \n",
    "        \n",
    "        \n",
    "        \n",
    "        \n",
    "        "
   ]
  },
  {
   "cell_type": "code",
   "execution_count": 17,
   "metadata": {},
   "outputs": [
    {
     "ename": "IndentationError",
     "evalue": "expected an indented block (<ipython-input-17-66e1863ba1c8>, line 4)",
     "output_type": "error",
     "traceback": [
      "\u001b[1;36m  File \u001b[1;32m\"<ipython-input-17-66e1863ba1c8>\"\u001b[1;36m, line \u001b[1;32m4\u001b[0m\n\u001b[1;33m    for i, o in zip(category_list, content_list):\u001b[0m\n\u001b[1;37m      ^\u001b[0m\n\u001b[1;31mIndentationError\u001b[0m\u001b[1;31m:\u001b[0m expected an indented block\n"
     ]
    }
   ],
   "source": [
    "# 시도 2\n",
    "if label in category_list:\n",
    "\n",
    "\n",
    "for i, o in zip(category_list, content_list):\n",
    "    print(i.text.strip())\n",
    "    for z in o.find_all('li'):\n",
    "        print(z.text.strip())\n",
    "        #print(z.find_all('span')[0])"
   ]
  },
  {
   "cell_type": "code",
   "execution_count": 41,
   "metadata": {},
   "outputs": [],
   "source": [
    "# 시도 0\n",
    "# 방송 리스트\n",
    "label = soup.find('div', class_ = 'workact type5').find_all('strong', class_ = 'workact_tit')[0].text.strip()\n",
    "if label == '방송':\n",
    "    for i in range(1, int(soup.find_all('div', class_ = 'workact type5')[0].find_all('span', class_ = 'count')[0].text.strip()[-1])+1):\n",
    "        cur_page = driver.page_source\n",
    "        soup = BeautifulSoup(cur_page, 'html.parser')\n",
    "        \n",
    "        try:\n",
    "            driver.find_element_by_xpath('//*[@id=\"pagination_76\"]/span[4]/a').click()\n",
    "            print('[페이지 읽는 중...]')\n",
    "            time.sleep(1)\n",
    "        except:\n",
    "            print('[마지막 페이지 읽는 중...]')\n",
    "            time.sleep(1)\n",
    "            \n",
    "        for o in soup.find('div', class_ = 'workact type5').find_all('span', class_ = 'tit_wrap'):\n",
    "            try:\n",
    "                print(o.text.strip())\n",
    "                onair_list.append(o.text.strip())\n",
    "                 #if int(soup.find('div', class_ = 'workact type5').find_all('span', class_ = 'count')[0].text.strip()[-1]) > 1:\n",
    "            except:\n",
    "                print('끝: page out of range')\n",
    "        "
   ]
  },
  {
   "cell_type": "code",
   "execution_count": 39,
   "metadata": {},
   "outputs": [
    {
     "ename": "ValueError",
     "evalue": "invalid literal for int() with base 10: '}'",
     "output_type": "error",
     "traceback": [
      "\u001b[1;31m---------------------------------------------------------------------------\u001b[0m",
      "\u001b[1;31mValueError\u001b[0m                                Traceback (most recent call last)",
      "\u001b[1;32m<ipython-input-39-859012852101>\u001b[0m in \u001b[0;36m<module>\u001b[1;34m\u001b[0m\n\u001b[0;32m      2\u001b[0m \u001b[0mlabel\u001b[0m \u001b[1;33m=\u001b[0m \u001b[0msoup\u001b[0m\u001b[1;33m.\u001b[0m\u001b[0mfind_all\u001b[0m\u001b[1;33m(\u001b[0m\u001b[1;34m'div'\u001b[0m\u001b[1;33m,\u001b[0m \u001b[0mclass_\u001b[0m \u001b[1;33m=\u001b[0m \u001b[1;34m'workact type5'\u001b[0m\u001b[1;33m)\u001b[0m\u001b[1;33m[\u001b[0m\u001b[1;36m1\u001b[0m\u001b[1;33m]\u001b[0m\u001b[1;33m.\u001b[0m\u001b[0mfind_all\u001b[0m\u001b[1;33m(\u001b[0m\u001b[1;34m'strong'\u001b[0m\u001b[1;33m,\u001b[0m \u001b[0mclass_\u001b[0m \u001b[1;33m=\u001b[0m \u001b[1;34m'workact_tit'\u001b[0m\u001b[1;33m)\u001b[0m\u001b[1;33m[\u001b[0m\u001b[1;36m0\u001b[0m\u001b[1;33m]\u001b[0m\u001b[1;33m.\u001b[0m\u001b[0mtext\u001b[0m\u001b[1;33m.\u001b[0m\u001b[0mstrip\u001b[0m\u001b[1;33m(\u001b[0m\u001b[1;33m)\u001b[0m\u001b[1;33m\u001b[0m\u001b[1;33m\u001b[0m\u001b[0m\n\u001b[0;32m      3\u001b[0m \u001b[1;32mif\u001b[0m \u001b[0mlabel\u001b[0m \u001b[1;33m==\u001b[0m \u001b[1;34m'영화'\u001b[0m\u001b[1;33m:\u001b[0m\u001b[1;33m\u001b[0m\u001b[1;33m\u001b[0m\u001b[0m\n\u001b[1;32m----> 4\u001b[1;33m     \u001b[1;32mfor\u001b[0m \u001b[0mi\u001b[0m \u001b[1;32min\u001b[0m \u001b[0mrange\u001b[0m\u001b[1;33m(\u001b[0m\u001b[1;36m1\u001b[0m\u001b[1;33m,\u001b[0m \u001b[0mint\u001b[0m\u001b[1;33m(\u001b[0m\u001b[0msoup\u001b[0m\u001b[1;33m.\u001b[0m\u001b[0mfind_all\u001b[0m\u001b[1;33m(\u001b[0m\u001b[1;34m'div'\u001b[0m\u001b[1;33m,\u001b[0m \u001b[0mclass_\u001b[0m \u001b[1;33m=\u001b[0m \u001b[1;34m'workact type5'\u001b[0m\u001b[1;33m)\u001b[0m\u001b[1;33m[\u001b[0m\u001b[1;36m1\u001b[0m\u001b[1;33m]\u001b[0m\u001b[1;33m.\u001b[0m\u001b[0mfind_all\u001b[0m\u001b[1;33m(\u001b[0m\u001b[1;34m'span'\u001b[0m\u001b[1;33m,\u001b[0m \u001b[0mclass_\u001b[0m \u001b[1;33m=\u001b[0m \u001b[1;34m'count'\u001b[0m\u001b[1;33m)\u001b[0m\u001b[1;33m[\u001b[0m\u001b[1;36m0\u001b[0m\u001b[1;33m]\u001b[0m\u001b[1;33m.\u001b[0m\u001b[0mtext\u001b[0m\u001b[1;33m.\u001b[0m\u001b[0mstrip\u001b[0m\u001b[1;33m(\u001b[0m\u001b[1;33m)\u001b[0m\u001b[1;33m[\u001b[0m\u001b[1;33m-\u001b[0m\u001b[1;36m1\u001b[0m\u001b[1;33m]\u001b[0m\u001b[1;33m)\u001b[0m\u001b[1;33m+\u001b[0m\u001b[1;36m1\u001b[0m\u001b[1;33m)\u001b[0m\u001b[1;33m:\u001b[0m\u001b[1;33m\u001b[0m\u001b[1;33m\u001b[0m\u001b[0m\n\u001b[0m\u001b[0;32m      5\u001b[0m         \u001b[0mcur_page\u001b[0m \u001b[1;33m=\u001b[0m \u001b[0mdriver\u001b[0m\u001b[1;33m.\u001b[0m\u001b[0mpage_source\u001b[0m\u001b[1;33m\u001b[0m\u001b[1;33m\u001b[0m\u001b[0m\n\u001b[0;32m      6\u001b[0m         \u001b[0msoup\u001b[0m \u001b[1;33m=\u001b[0m \u001b[0mBeautifulSoup\u001b[0m\u001b[1;33m(\u001b[0m\u001b[0mcur_page\u001b[0m\u001b[1;33m,\u001b[0m \u001b[1;34m'html.parser'\u001b[0m\u001b[1;33m)\u001b[0m\u001b[1;33m\u001b[0m\u001b[1;33m\u001b[0m\u001b[0m\n",
      "\u001b[1;31mValueError\u001b[0m: invalid literal for int() with base 10: '}'"
     ]
    }
   ],
   "source": [
    "# 영화 리스트\n",
    "label = soup.find_all('div', class_ = 'workact type5')[1].find_all('strong', class_ = 'workact_tit')[0].text.strip()\n",
    "if label == '영화':\n",
    "    for i in range(1, int(soup.find_all('div', class_ = 'workact type5')[1].find_all('span', class_ = 'count')[0].text.strip()[-1])+1):\n",
    "        cur_page = driver.page_source\n",
    "        soup = BeautifulSoup(cur_page, 'html.parser')\n",
    "\n",
    "        try:\n",
    "            driver.find_element_by_xpath('//*[@id=\"pagination_76\"]/span[4]/a').click()\n",
    "            print('[페이지 읽는 중...]')\n",
    "            time.sleep(1)\n",
    "        except:\n",
    "            print('[마지막 페이지 읽는 중...]')\n",
    "            time.sleep(1)\n",
    "\n",
    "        for o in soup.find_all('div', class_ = 'workact type5')[1].find_all('span', class_ = 'tit_wrap'):\n",
    "            try:\n",
    "                print(o.text.strip())\n",
    "                filmo_list.append(o.text.strip())\n",
    "                 #if int(soup.find('div', class_ = 'workact type5').find_all('span', class_ = 'count')[0].text.strip()[-1]) > 1:\n",
    "            except:\n",
    "                print('끝: page out of range')\n",
    "\n",
    "if label == '방송':\n",
    "    \n",
    "       for i in range(1, int(soup.find_all('div', class_ = 'workact type5')[1].find_all('span', class_ = 'count')[0].text.strip()[-1])+1):\n",
    "        cur_page = driver.page_source\n",
    "        soup = BeautifulSoup(cur_page, 'html.parser')\n",
    "        \n",
    "        try:\n",
    "            driver.find_element_by_xpath('//*[@id=\"pagination_76\"]/span[4]/a').click()\n",
    "            print('[페이지 읽는 중...]')\n",
    "            time.sleep(1)\n",
    "        except:\n",
    "            print('[마지막 페이지 읽는 중...]')\n",
    "            time.sleep(1)\n",
    "\n",
    "        for o in soup.find_all('div', class_ = 'workact type5')[1].find_all('span', class_ = 'tit_wrap'):\n",
    "            try:\n",
    "                print(o.text.strip())\n",
    "                filmo_list.append(o.text.strip())\n",
    "                 #if int(soup.find('div', class_ = 'workact type5').find_all('span', class_ = 'count')[0].text.strip()[-1]) > 1:\n",
    "            except:\n",
    "                print('끝: page out of range')\n"
   ]
  },
  {
   "cell_type": "code",
   "execution_count": null,
   "metadata": {},
   "outputs": [],
   "source": [
    "driver.page_source"
   ]
  },
  {
   "cell_type": "code",
   "execution_count": null,
   "metadata": {},
   "outputs": [],
   "source": []
  }
 ],
 "metadata": {
  "kernelspec": {
   "display_name": "Python 3",
   "language": "python",
   "name": "python3"
  },
  "language_info": {
   "codemirror_mode": {
    "name": "ipython",
    "version": 3
   },
   "file_extension": ".py",
   "mimetype": "text/x-python",
   "name": "python",
   "nbconvert_exporter": "python",
   "pygments_lexer": "ipython3",
   "version": "3.7.6"
  }
 },
 "nbformat": 4,
 "nbformat_minor": 4
}

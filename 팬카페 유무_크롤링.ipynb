{
 "cells": [
  {
   "cell_type": "code",
   "execution_count": 1,
   "metadata": {},
   "outputs": [],
   "source": [
    "import requests\n",
    "import pandas as pd\n",
    "from bs4 import BeautifulSoup as bs\n",
    "import selenium\n",
    "from selenium import webdriver\n",
    "from selenium.webdriver.common.keys import Keys"
   ]
  },
  {
   "cell_type": "code",
   "execution_count": 2,
   "metadata": {},
   "outputs": [],
   "source": [
    "d = webdriver.Chrome(\"c:/Chrome/chromedriver.exe\")"
   ]
  },
  {
   "cell_type": "code",
   "execution_count": 3,
   "metadata": {},
   "outputs": [],
   "source": [
    "d.get('https://m.cafe.daum.net/_fancafe')"
   ]
  },
  {
   "cell_type": "code",
   "execution_count": 4,
   "metadata": {},
   "outputs": [],
   "source": [
    "d.find_element_by_css_selector('#fandom > div.more > button').click()"
   ]
  },
  {
   "cell_type": "code",
   "execution_count": 5,
   "metadata": {},
   "outputs": [],
   "source": [
    "d.find_element_by_css_selector('#fandom > div.more > button').click()"
   ]
  },
  {
   "cell_type": "code",
   "execution_count": 6,
   "metadata": {},
   "outputs": [],
   "source": [
    "d.find_element_by_css_selector('#fandom > div.more > button').click()"
   ]
  },
  {
   "cell_type": "code",
   "execution_count": 7,
   "metadata": {},
   "outputs": [],
   "source": [
    "d.page_source\n",
    "html = d.page_source\n",
    "daum = bs(html, 'html.parser')"
   ]
  },
  {
   "cell_type": "code",
   "execution_count": 8,
   "metadata": {},
   "outputs": [],
   "source": [
    "a = daum.find('div', class_='rank_list_wrap')"
   ]
  },
  {
   "cell_type": "code",
   "execution_count": 9,
   "metadata": {},
   "outputs": [],
   "source": [
    "total = []\n",
    "\n",
    "for i in range(0, 100):\n",
    "    total.append(a('strong')[i].text) "
   ]
  },
  {
   "cell_type": "code",
   "execution_count": 10,
   "metadata": {
    "collapsed": true
   },
   "outputs": [
    {
     "data": {
      "text/plain": [
       "['임영웅',\n",
       " '정동원',\n",
       " '박서진',\n",
       " '김희재',\n",
       " '장민호',\n",
       " '양준일',\n",
       " '조명섭',\n",
       " '황치열',\n",
       " '김수찬',\n",
       " '양지원',\n",
       " '뉴에라프로젝트',\n",
       " '아이유',\n",
       " '원호',\n",
       " '남승민',\n",
       " '나태주',\n",
       " '박보검',\n",
       " '김경민',\n",
       " '하성운',\n",
       " '아이즈원',\n",
       " '몬스타엑스',\n",
       " '김재환',\n",
       " '옹성우',\n",
       " '펭수',\n",
       " '방탄소년단',\n",
       " '신유',\n",
       " '김혁건',\n",
       " '신성',\n",
       " '이수영',\n",
       " '더보이즈',\n",
       " '오마이걸',\n",
       " '에스에프나인',\n",
       " '박형식',\n",
       " '크래비티',\n",
       " '에이비식스',\n",
       " '김유정',\n",
       " '강다니엘',\n",
       " '박지훈',\n",
       " 'B1A4',\n",
       " '이준혁',\n",
       " '임영민',\n",
       " 'K타이거즈 제로',\n",
       " '한이재',\n",
       " '아스트로',\n",
       " '씨아이엑스',\n",
       " '하현상',\n",
       " '뉴이스트',\n",
       " '정해인',\n",
       " '박서준',\n",
       " '김소현',\n",
       " '박혜신',\n",
       " '진해성',\n",
       " '미스터티',\n",
       " '빅톤',\n",
       " '적재',\n",
       " '업텐션',\n",
       " '조승연',\n",
       " '민경훈',\n",
       " '이승기',\n",
       " '이동윤',\n",
       " '프로미스나인',\n",
       " '윤지성',\n",
       " '김수현',\n",
       " '캡틴 시하',\n",
       " '장윤정',\n",
       " '임태경',\n",
       " '위아이',\n",
       " '이준기',\n",
       " '엠엑스엠',\n",
       " '마마무',\n",
       " '온앤오프',\n",
       " '박해진',\n",
       " '송중기',\n",
       " '박보영',\n",
       " '윤균상',\n",
       " '이선희',\n",
       " '케이윌',\n",
       " '현빈',\n",
       " '이은상',\n",
       " '이대원',\n",
       " '김남길',\n",
       " '강태관',\n",
       " '원어스',\n",
       " '브이에이브이',\n",
       " '공유',\n",
       " '김형준',\n",
       " '빅스',\n",
       " '강동원',\n",
       " '박준석',\n",
       " '류이호',\n",
       " '에이스',\n",
       " '에이티즈',\n",
       " '정동하',\n",
       " '최진혁',\n",
       " '손호준',\n",
       " '류준열',\n",
       " '김정현',\n",
       " '윤시윤',\n",
       " '임형주',\n",
       " '이재욱',\n",
       " '이민호']"
      ]
     },
     "execution_count": 10,
     "metadata": {},
     "output_type": "execute_result"
    }
   ],
   "source": [
    "total # 팬카페순위 TOP10"
   ]
  },
  {
   "cell_type": "code",
   "execution_count": 13,
   "metadata": {},
   "outputs": [],
   "source": [
    "keywords = ['장성규', '김우빈', '김연아', '이순재', '손흥민', '안재홍',  '유재석', '정준하', '정형돈',  '장도연' ]\n",
    "result = []\n",
    "df= pd.DataFrame()\n",
    "\n",
    "for keyword in keywords:\n",
    "    if keyword in total:\n",
    "        result.append(1)\n",
    "    else:\n",
    "        result.append(0)\n",
    "\n",
    "\n",
    "fancafe = []\n",
    "for x, y in zip(result , keywords):\n",
    "    fancafe.append([x, y])\n",
    "    "
   ]
  },
  {
   "cell_type": "code",
   "execution_count": 25,
   "metadata": {},
   "outputs": [],
   "source": [
    "YesorNo = pd.DataFrame(fancafe)"
   ]
  },
  {
   "cell_type": "code",
   "execution_count": 28,
   "metadata": {},
   "outputs": [],
   "source": [
    "YesorNo.columns = {'팬카페유무', '이름'}"
   ]
  },
  {
   "cell_type": "code",
   "execution_count": 29,
   "metadata": {},
   "outputs": [
    {
     "data": {
      "text/html": [
       "<div>\n",
       "<style scoped>\n",
       "    .dataframe tbody tr th:only-of-type {\n",
       "        vertical-align: middle;\n",
       "    }\n",
       "\n",
       "    .dataframe tbody tr th {\n",
       "        vertical-align: top;\n",
       "    }\n",
       "\n",
       "    .dataframe thead th {\n",
       "        text-align: right;\n",
       "    }\n",
       "</style>\n",
       "<table border=\"1\" class=\"dataframe\">\n",
       "  <thead>\n",
       "    <tr style=\"text-align: right;\">\n",
       "      <th></th>\n",
       "      <th>팬카페유무</th>\n",
       "      <th>이름</th>\n",
       "    </tr>\n",
       "  </thead>\n",
       "  <tbody>\n",
       "    <tr>\n",
       "      <th>0</th>\n",
       "      <td>0</td>\n",
       "      <td>장성규</td>\n",
       "    </tr>\n",
       "    <tr>\n",
       "      <th>1</th>\n",
       "      <td>0</td>\n",
       "      <td>김우빈</td>\n",
       "    </tr>\n",
       "    <tr>\n",
       "      <th>2</th>\n",
       "      <td>0</td>\n",
       "      <td>김연아</td>\n",
       "    </tr>\n",
       "    <tr>\n",
       "      <th>3</th>\n",
       "      <td>0</td>\n",
       "      <td>이순재</td>\n",
       "    </tr>\n",
       "    <tr>\n",
       "      <th>4</th>\n",
       "      <td>0</td>\n",
       "      <td>손흥민</td>\n",
       "    </tr>\n",
       "    <tr>\n",
       "      <th>5</th>\n",
       "      <td>0</td>\n",
       "      <td>안재홍</td>\n",
       "    </tr>\n",
       "    <tr>\n",
       "      <th>6</th>\n",
       "      <td>0</td>\n",
       "      <td>유재석</td>\n",
       "    </tr>\n",
       "    <tr>\n",
       "      <th>7</th>\n",
       "      <td>0</td>\n",
       "      <td>정준하</td>\n",
       "    </tr>\n",
       "    <tr>\n",
       "      <th>8</th>\n",
       "      <td>0</td>\n",
       "      <td>정형돈</td>\n",
       "    </tr>\n",
       "    <tr>\n",
       "      <th>9</th>\n",
       "      <td>0</td>\n",
       "      <td>장도연</td>\n",
       "    </tr>\n",
       "  </tbody>\n",
       "</table>\n",
       "</div>"
      ],
      "text/plain": [
       "   팬카페유무   이름\n",
       "0      0  장성규\n",
       "1      0  김우빈\n",
       "2      0  김연아\n",
       "3      0  이순재\n",
       "4      0  손흥민\n",
       "5      0  안재홍\n",
       "6      0  유재석\n",
       "7      0  정준하\n",
       "8      0  정형돈\n",
       "9      0  장도연"
      ]
     },
     "execution_count": 29,
     "metadata": {},
     "output_type": "execute_result"
    }
   ],
   "source": [
    "YesorNo"
   ]
  },
  {
   "cell_type": "code",
   "execution_count": null,
   "metadata": {},
   "outputs": [],
   "source": [
    "YesorNo.to_excel('나이와결혼여부.xlsx', index=False)"
   ]
  }
 ],
 "metadata": {
  "kernelspec": {
   "display_name": "Python 3",
   "language": "python",
   "name": "python3"
  },
  "language_info": {
   "codemirror_mode": {
    "name": "ipython",
    "version": 3
   },
   "file_extension": ".py",
   "mimetype": "text/x-python",
   "name": "python",
   "nbconvert_exporter": "python",
   "pygments_lexer": "ipython3",
   "version": "3.7.7"
  }
 },
 "nbformat": 4,
 "nbformat_minor": 4
}

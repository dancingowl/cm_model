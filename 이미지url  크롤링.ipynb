{
 "cells": [
  {
   "cell_type": "code",
   "execution_count": 10,
   "metadata": {},
   "outputs": [],
   "source": [
    "from urllib.request import urlopen\n",
    "from bs4 import BeautifulSoup as bs\n",
    "from urllib.parse import quote_plus"
   ]
  },
  {
   "cell_type": "code",
   "execution_count": 11,
   "metadata": {},
   "outputs": [],
   "source": [
    "import pandas as pd\n",
    "from urllib import parse"
   ]
  },
  {
   "cell_type": "code",
   "execution_count": 13,
   "metadata": {
    "scrolled": true
   },
   "outputs": [
    {
     "data": {
      "text/plain": [
       "['//upload.wikimedia.org/wikipedia/commons/thumb/4/44/2019_%EB%89%B4%EC%8A%A4%ED%8E%98%EC%9D%B4%EC%8A%A4_5%ED%99%94_%EC%9E%A5%EC%84%B1%EA%B7%9C_01.jpg/250px-2019_%EB%89%B4%EC%8A%A4%ED%8E%98%EC%9D%B4%EC%8A%A4_5%ED%99%94_%EC%9E%A5%EC%84%B1%EA%B7%9C_01.jpg',\n",
       " '//upload.wikimedia.org/wikipedia/commons/thumb/c/cd/Kim_Woo-bin_at_%22Uncontrollably_Fond%22_press_conference%2C_4_July_2016_02.jpg/250px-Kim_Woo-bin_at_%22Uncontrollably_Fond%22_press_conference%2C_4_July_2016_02.jpg',\n",
       " '//upload.wikimedia.org/wikipedia/commons/thumb/4/4a/Disambig_grey.svg/23px-Disambig_grey.svg.png',\n",
       " '//upload.wikimedia.org/wikipedia/commons/thumb/d/de/190916_Lee_Soon-jae.jpg/250px-190916_Lee_Soon-jae.jpg',\n",
       " '//upload.wikimedia.org/wikipedia/commons/thumb/c/cf/Football_pictogram.svg/30px-Football_pictogram.svg.png',\n",
       " '//upload.wikimedia.org/wikipedia/commons/thumb/4/4a/Disambig_grey.svg/23px-Disambig_grey.svg.png',\n",
       " '//upload.wikimedia.org/wikipedia/commons/thumb/c/c0/Yoo_Jae_Suk_going_to_work_at_Happy_Together_on_August_19%2C_2017_%282%29.jpg/220px-Yoo_Jae_Suk_going_to_work_at_Happy_Together_on_August_19%2C_2017_%282%29.jpg',\n",
       " '//upload.wikimedia.org/wikipedia/commons/thumb/7/71/140807_%EC%A0%95%EC%A4%80%ED%95%98.jpg/220px-140807_%EC%A0%95%EC%A4%80%ED%95%98.jpg',\n",
       " '//upload.wikimedia.org/wikipedia/commons/thumb/0/0d/Jeong_Hyeong-don_from_acrofan.jpg/220px-Jeong_Hyeong-don_from_acrofan.jpg',\n",
       " '//upload.wikimedia.org/wikipedia/commons/thumb/0/05/KBS%EC%9B%94%EB%93%9C_%27%EB%8D%94_%EB%B7%B0%ED%8B%B0_%EC%8B%9C%EC%A6%8C_2%27_%EC%A0%9C%EC%9E%91%EB%B0%9C%ED%91%9C%ED%9A%8C_%EC%9E%A5%EB%8F%84%EC%97%B0.jpg/220px-KBS%EC%9B%94%EB%93%9C_%27%EB%8D%94_%EB%B7%B0%ED%8B%B0_%EC%8B%9C%EC%A6%8C_2%27_%EC%A0%9C%EC%9E%91%EB%B0%9C%ED%91%9C%ED%9A%8C_%EC%9E%A5%EB%8F%84%EC%97%B0.jpg']"
      ]
     },
     "execution_count": 13,
     "metadata": {},
     "output_type": "execute_result"
    }
   ],
   "source": [
    "base_url ='https://ko.wikipedia.org/wiki/{}'\n",
    "\n",
    "keywords = ['장성규', '김우빈','김연아', '이순재', '손흥민', '안재홍',  '유재석', '정준하', '정형돈',  '장도연' ]\n",
    "total = []\n",
    "\n",
    "for keyword in keywords:\n",
    "    url = base_url.format(quote_plus(keyword))\n",
    "    html = urlopen(url)\n",
    "    soup = bs(html, 'html.parser')\n",
    "    result = soup.find('img')['src']\n",
    "    total.append(result)\n",
    "total    "
   ]
  },
  {
   "cell_type": "code",
   "execution_count": null,
   "metadata": {},
   "outputs": [],
   "source": []
  }
 ],
 "metadata": {
  "kernelspec": {
   "display_name": "Python 3",
   "language": "python",
   "name": "python3"
  },
  "language_info": {
   "codemirror_mode": {
    "name": "ipython",
    "version": 3
   },
   "file_extension": ".py",
   "mimetype": "text/x-python",
   "name": "python",
   "nbconvert_exporter": "python",
   "pygments_lexer": "ipython3",
   "version": "3.7.7"
  }
 },
 "nbformat": 4,
 "nbformat_minor": 4
}
